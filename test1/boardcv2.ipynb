{
 "cells": [
  {
   "cell_type": "markdown",
   "id": "2f861782",
   "metadata": {},
   "source": [
    "# boardcv2.py EXPLAINED"
   ]
  },
  {
   "cell_type": "code",
   "execution_count": null,
   "id": "7c985836",
   "metadata": {},
   "outputs": [],
   "source": [
    "import os\n",
    "import numpy as np\n",
    "import cv2\n",
    "import matplotlib.pyplot as plt\n",
    "from PIL import Image\n",
    "from PIL import ImageFilter\n",
    "from chessutils import *"
   ]
  },
  {
   "cell_type": "code",
   "execution_count": null,
   "id": "042c7099",
   "metadata": {},
   "outputs": [],
   "source": [
    "NUMCELL = 8\n",
    "CELL = 45\n",
    "IMGSIZE = NUMCELL*CELL"
   ]
  },
  {
   "cell_type": "code",
   "execution_count": null,
   "id": "9d782bc1",
   "metadata": {},
   "outputs": [],
   "source": [
    "#Initializing templates\n",
    "fl = [f for f in os.listdir('img') if f.split('_')[0] == 'Chess']\n",
    "\n",
    "bkgray = dict()\n",
    "for f in [f for f in fl if f.split('4')[0][-2] == 'x']:\n",
    "    img = cv2.imread(os.path.join('img', f))\n",
    "    img = cv2.cvtColor(img, cv2.COLOR_BGR2GRAY)\n",
    "    bkgray[f.split('_')[1].split('4')[0][-1]] = img[0][0]\n",
    "\n",
    "figuresimgs = dict()\n",
    "for f in fl:\n",
    "    fn = f.split('_')[1].split('4')[0]\n",
    "    bk = fn[-1]\n",
    "    img = cv2.imread(os.path.join('img', f))\n",
    "    img = cv2.cvtColor(img, cv2.COLOR_BGR2GRAY)\n",
    "    figuresimgs[fn] = cv2.copyMakeBorder(img,10,10,10,10,cv2.BORDER_CONSTANT,value=float(bkgray[bk]))"
   ]
  },
  {
   "cell_type": "code",
   "execution_count": null,
   "id": "a01482d0",
   "metadata": {},
   "outputs": [],
   "source": [
    "#folder with test image\n",
    "#folder = 'out'\n",
    "folder = 'test'"
   ]
  },
  {
   "cell_type": "code",
   "execution_count": null,
   "id": "9a6b1034",
   "metadata": {},
   "outputs": [],
   "source": [
    "fls = [os.path.join(folder,f) for f in os.listdir(folder) if f.split('.')[-1] == 'png']\n",
    "fls"
   ]
  },
  {
   "cell_type": "code",
   "execution_count": null,
   "id": "5cc61994",
   "metadata": {},
   "outputs": [],
   "source": [
    "#Reading the image, converting to grayscale\n",
    "f = fls[0]\n",
    "img = cv2.imread(f)\n",
    "gray = cv2.cvtColor(img, cv2.COLOR_BGR2GRAY)"
   ]
  },
  {
   "cell_type": "code",
   "execution_count": null,
   "id": "3c9b2603",
   "metadata": {},
   "outputs": [],
   "source": [
    "#Looking for chessfield boundaried\n",
    "ncorner = 7\n",
    "prs = cv2.findChessboardCorners(gray, (ncorner,ncorner))\n",
    "assert prs[0], \"No board detected\""
   ]
  },
  {
   "cell_type": "code",
   "execution_count": null,
   "id": "78933812",
   "metadata": {},
   "outputs": [],
   "source": []
  },
  {
   "cell_type": "code",
   "execution_count": null,
   "id": "0f06591d",
   "metadata": {},
   "outputs": [],
   "source": [
    "#Coordinates\n",
    "xy = np.array([t[0] for t in prs[1]])"
   ]
  },
  {
   "cell_type": "code",
   "execution_count": null,
   "id": "98b0af59",
   "metadata": {},
   "outputs": [],
   "source": [
    "#Center of detected points\n",
    "xyc = np.mean(xy, axis=0)"
   ]
  },
  {
   "cell_type": "code",
   "execution_count": null,
   "id": "9a7aa77c",
   "metadata": {},
   "outputs": [],
   "source": [
    "#Most distant from center points -- chessboard corners \n",
    "mhdists = [np.sum(np.abs(p-xyc)) for p in xy]\n",
    "corners = xy[np.argsort(mhdists)[-4:]]"
   ]
  },
  {
   "cell_type": "code",
   "execution_count": null,
   "id": "6e8566da",
   "metadata": {},
   "outputs": [],
   "source": [
    "#Visualizing\n",
    "fig, axxes = plt.subplots(ncols=2, nrows=1, figsize=(6,3), sharex=True, sharey=True)\n",
    "fig.suptitle('Points detected')\n",
    "axxes[0].imshow(img[:,:,::-1])\n",
    "axxes[1].imshow(gray, cmap='gray')\n",
    "axxes[1].scatter(xy[:,0], xy[:,1], s=2, c='g')\n",
    "axxes[1].scatter(xyc[0], xyc[1], s=2, c='r')\n",
    "axxes[1].scatter(corners[:,0], corners[:,1], s=5, c='b')\n",
    "axxes[0].axis('off')\n",
    "axxes[1].axis('off')\n",
    "fig.tight_layout()\n",
    "plt.show()"
   ]
  },
  {
   "cell_type": "code",
   "execution_count": null,
   "id": "3b2f3cd5",
   "metadata": {},
   "outputs": [],
   "source": [
    "#Restoring boardsize\n",
    "half = 0.5*np.max(mhdists)\n",
    "propercorners = xyc + half*np.array([[-1,-1],[1,-1],[-1,1],[1,1]])\n",
    "ixmatch = [np.argmin(np.sum(np.abs(p-corners), axis=1)) for p in propercorners]\n",
    "cornersmatch = corners[ixmatch]\n",
    "brdsize = half / (ncorner-1) * NUMCELL"
   ]
  },
  {
   "cell_type": "code",
   "execution_count": null,
   "id": "b2975ef5",
   "metadata": {},
   "outputs": [],
   "source": [
    "#Transformation parameters\n",
    "coeffs = find_coeffs(propercorners, cornersmatch)"
   ]
  },
  {
   "cell_type": "code",
   "execution_count": null,
   "id": "3f9c9d0f",
   "metadata": {},
   "outputs": [],
   "source": [
    "#Persperctive transform -- make baord straight\n",
    "img = Image.fromarray(gray)\n",
    "img2 = img.transform(img.size, Image.PERSPECTIVE, coeffs, Image.BICUBIC)"
   ]
  },
  {
   "cell_type": "code",
   "execution_count": null,
   "id": "ce569351",
   "metadata": {},
   "outputs": [],
   "source": [
    "#Visualizing transformation\n",
    "fig, axxes = plt.subplots(ncols=2, nrows=1, figsize=(6,3), sharex=True, sharey=True)\n",
    "fig.suptitle('Corrected')\n",
    "axxes[0].imshow(gray, cmap='gray')\n",
    "axxes[0].scatter(corners[:,0], corners[:,1], s=5, c='r')\n",
    "axxes[1].imshow(np.asarray(img2), cmap='gray')\n",
    "\n",
    "axxes[0].axis('off')\n",
    "axxes[1].axis('off')\n",
    "fig.tight_layout()\n",
    "plt.show()"
   ]
  },
  {
   "cell_type": "code",
   "execution_count": null,
   "id": "21ce3994",
   "metadata": {},
   "outputs": [],
   "source": [
    "#Crop/resize\n",
    "img3 = img2.crop((xyc[0]-brdsize, xyc[1]-brdsize, xyc[0]+brdsize, xyc[1]+brdsize))\n",
    "img4 = img3.resize((IMGSIZE,IMGSIZE))\n",
    "cropped = np.asarray(img4)"
   ]
  },
  {
   "cell_type": "code",
   "execution_count": null,
   "id": "3787e940",
   "metadata": {},
   "outputs": [],
   "source": [
    "#Find template matching\n",
    "outdict = dict()\n",
    "threshld = 0.5\n",
    "for i in range(NUMCELL*NUMCELL):\n",
    "    xp = i % NUMCELL\n",
    "    yp = i // NUMCELL\n",
    "\n",
    "    xt = cropped[CELL*yp:CELL*(yp+1),CELL*xp:CELL*(xp+1)]\n",
    "    cl = 'l' if (xp+yp) % 2 == 0 else 'd'\n",
    "\n",
    "    vc = threshld\n",
    "    ky = 'xx'\n",
    "    for k, v in figuresimgs.items():\n",
    "        if (k[-1] != cl):\n",
    "            continue\n",
    "        res = cv2.matchTemplate(xt, v, cv2.TM_CCOEFF_NORMED)\n",
    "        maxpos = np.argmax(res)\n",
    "        if (abs(maxpos%res.shape[0]-10.5) > 5 or abs(maxpos//res.shape[0]-10.5) > 5):\n",
    "            continue\n",
    "        if (np.ravel(res)[maxpos] > vc):\n",
    "            vc = np.ravel(res)[maxpos]\n",
    "            ky = k[:2]\n",
    "    if (ky != 'xx'):\n",
    "        outdict[i] = ky\n"
   ]
  },
  {
   "cell_type": "code",
   "execution_count": null,
   "id": "4d0af7c7",
   "metadata": {},
   "outputs": [],
   "source": [
    "#Visualizing\n",
    "fig, axxes = plt.subplots(ncols=NUMCELL, nrows=NUMCELL, figsize=(3*NUMCELL,NUMCELL*3), sharex=True, sharey=True)\n",
    "for i in range(NUMCELL*NUMCELL):\n",
    "    xp = i % NUMCELL\n",
    "    yp = i // NUMCELL\n",
    "    xt = cropped[CELL*yp:CELL*(yp+1),CELL*xp:CELL*(xp+1)]\n",
    "    \n",
    "    header = f'{postonote(i)}:{codetofig(outdict[i])}' if i in outdict else f'{postonote(i)}'\n",
    "    axxes[yp,xp].set_title(f'{header}')\n",
    "    axxes[yp,xp].imshow(xt, cmap='gray', vmin=0, vmax=255)\n",
    "    axxes[yp,xp].axis('off')\n",
    "    \n",
    "fig.tight_layout()\n",
    "plt.show()"
   ]
  }
 ],
 "metadata": {
  "kernelspec": {
   "display_name": "Python 3 (ipykernel)",
   "language": "python",
   "name": "python3"
  },
  "language_info": {
   "codemirror_mode": {
    "name": "ipython",
    "version": 3
   },
   "file_extension": ".py",
   "mimetype": "text/x-python",
   "name": "python",
   "nbconvert_exporter": "python",
   "pygments_lexer": "ipython3",
   "version": "3.8.12"
  }
 },
 "nbformat": 4,
 "nbformat_minor": 5
}
