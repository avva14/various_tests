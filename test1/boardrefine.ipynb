{
 "cells": [
  {
   "cell_type": "code",
   "execution_count": 1,
   "id": "a94cb0ec",
   "metadata": {},
   "outputs": [],
   "source": [
    "import os\n",
    "import numpy as np\n",
    "import cv2\n",
    "from PIL import Image\n",
    "import matplotlib.pyplot as plt"
   ]
  },
  {
   "cell_type": "code",
   "execution_count": 2,
   "id": "f8e3031c",
   "metadata": {},
   "outputs": [],
   "source": [
    "from chessutils import find_coeffs\n",
    "from boardgen import chessboard"
   ]
  },
  {
   "cell_type": "code",
   "execution_count": 3,
   "id": "b465da68",
   "metadata": {},
   "outputs": [],
   "source": [
    "from clusterization import clusterize"
   ]
  },
  {
   "cell_type": "code",
   "execution_count": 4,
   "id": "6d765a1c",
   "metadata": {},
   "outputs": [],
   "source": [
    "def intersect(i1, i2):\n",
    "    return (i2[0] <= i1[1]) and (i1[0] <= i2[1])\n",
    "def closeintervals(i1, i2):\n",
    "    return intersect(i1, i2) and (abs(i1[2]-i2[2]) == 1)\n",
    "\n",
    "def centerofmass(c):\n",
    "    xm = 0\n",
    "    ym = 0\n",
    "    nm = 0\n",
    "    for i in c:\n",
    "        ns = i[1]-i[0]+1\n",
    "        xm += 0.5*(i[1]+i[0])*ns\n",
    "        ym += i[2]*ns\n",
    "        nm += ns\n",
    "    return xm/nm, ym/nm"
   ]
  },
  {
   "cell_type": "code",
   "execution_count": 5,
   "id": "78dd6bdf",
   "metadata": {},
   "outputs": [],
   "source": [
    "PATH_TO_IMG = 'img'"
   ]
  },
  {
   "cell_type": "code",
   "execution_count": 6,
   "id": "8b1fe4e5",
   "metadata": {},
   "outputs": [],
   "source": [
    "IMGSIZE = 480\n",
    "MAXSHEAR = 0.15\n",
    "MINSCALE = 0.5\n",
    "NC = 5\n",
    "\n",
    "HFIMGSIZE = IMGSIZE // 2"
   ]
  },
  {
   "cell_type": "code",
   "execution_count": 7,
   "id": "e1914753",
   "metadata": {},
   "outputs": [],
   "source": [
    "def xcrosscorr(bd):\n",
    "    cftbd = np.fft.fft2(bd)\n",
    "\n",
    "    cross = np.real(np.fft.ifft2(np.conj(cftbd)*cftbd))\n",
    "    xross = np.zeros((IMGSIZE,IMGSIZE))\n",
    "\n",
    "    for i in range(IMGSIZE*IMGSIZE):\n",
    "        x = i % IMGSIZE\n",
    "        y = i // IMGSIZE\n",
    "        xs = (x - HFIMGSIZE) % IMGSIZE\n",
    "        ys = (y - HFIMGSIZE) % IMGSIZE\n",
    "        xross[y,x] = cross[ys,xs]\n",
    "    return xross"
   ]
  },
  {
   "cell_type": "code",
   "execution_count": 8,
   "id": "2e760fda",
   "metadata": {},
   "outputs": [],
   "source": [
    "figimgs = [f for f in os.listdir(PATH_TO_IMG) if f.split('_')[0]=='Chess']\n",
    "figuresimgs = dict()\n",
    "for f in figimgs:\n",
    "    fn = f.split('_')[1].split('4')[0]\n",
    "    img = cv2.imread(os.path.join(PATH_TO_IMG, f))\n",
    "    figuresimgs[fn] = cv2.cvtColor(img, cv2.COLOR_BGR2GRAY)\n",
    "\n",
    "figs = ['p', 'b', 'n', 'r', 'q', 'k']\n",
    "colors = ['d', 'l']"
   ]
  },
  {
   "cell_type": "code",
   "execution_count": 9,
   "id": "1619f2fd",
   "metadata": {},
   "outputs": [],
   "source": [
    "parameters = {\n",
    "    'numcell':8,\n",
    "    'cellsize':45,\n",
    "    'figures':figs,\n",
    "    'colors':colors,\n",
    "    'shear':MAXSHEAR,\n",
    "    'scale':MINSCALE,\n",
    "}"
   ]
  },
  {
   "cell_type": "code",
   "execution_count": 10,
   "id": "c6ff31ec",
   "metadata": {},
   "outputs": [],
   "source": [
    "def randomboardpoints(nc, params):\n",
    "    boardsize = params['cellsize'] * params['numcell']\n",
    "    mask = 255*np.ones((boardsize,boardsize), np.uint8)\n",
    "    nb = params['numcell']*params['numcell']\n",
    "    npt = np.random.randint(1,nc+1,size=nb)\n",
    "    nzz = np.random.randint(nb, size=2)\n",
    "    npt[nzz] = 0\n",
    "    for i in range(nb):\n",
    "        xp = i % params['numcell']\n",
    "        yp = i // params['numcell']\n",
    "        sz = npt[i]\n",
    "        if (xp != 0) and (yp != 0) and sz > 0:\n",
    "            mask[yp*params['cellsize']-sz:yp*params['cellsize']+sz,xp*params['cellsize']-sz:xp*params['cellsize']+sz] = 0\n",
    "    return mask"
   ]
  },
  {
   "cell_type": "code",
   "execution_count": null,
   "id": "fcb2acdb",
   "metadata": {},
   "outputs": [],
   "source": []
  },
  {
   "cell_type": "code",
   "execution_count": 11,
   "id": "3d4643a1",
   "metadata": {},
   "outputs": [],
   "source": [
    "def boardmask(imgsize):\n",
    "    boardimage, _, vecs = chessboard(figuresimgs, np.random.rand(13), imgsize, parameters)\n",
    "    blank_mask = randomboardpoints(NC, parameters)\n",
    "\n",
    "    img = Image.fromarray(blank_mask, 'L')\n",
    "    coeffs = find_coeffs(\n",
    "         vecs.reshape((4,2)),\n",
    "         [(0, 0), (blank_mask.shape[1], 0), (blank_mask.shape[1], blank_mask.shape[0]), (0, blank_mask.shape[0])])\n",
    "\n",
    "    img = img.transform((imgsize, imgsize), Image.PERSPECTIVE, coeffs, Image.NEAREST, fillcolor = 'white')\n",
    "    return 1-np.asarray(img)/255"
   ]
  },
  {
   "cell_type": "code",
   "execution_count": 12,
   "id": "1baf5c3d",
   "metadata": {},
   "outputs": [],
   "source": [
    "def addpoints(img, num):\n",
    "    xyadd = np.random.rand(num,3)\n",
    "    for i in range(num):\n",
    "        xc = int(img.shape[1]*xyadd[i,0])\n",
    "        yc = int(img.shape[0]*xyadd[i,1])\n",
    "        nc = int(NC*xyadd[i,2])+1\n",
    "        img[yc-nc:yc+nc,xc-nc:xc+nc] = 1\n",
    "    return"
   ]
  },
  {
   "cell_type": "code",
   "execution_count": 13,
   "id": "bc4d25a5",
   "metadata": {},
   "outputs": [
    {
     "data": {
      "image/png": "[encoded data removed]",
      "text/plain": [
       "<Figure size 864x432 with 2 Axes>"
      ]
     },
     "metadata": {
      "needs_background": "light"
     },
     "output_type": "display_data"
    }
   ],
   "source": [
    "bd = boardmask(IMGSIZE)\n",
    "\n",
    "fig, axxes = plt.subplots(ncols=2, nrows=1, figsize=(12,6), sharex=True, sharey=True)\n",
    "axxes[0].imshow(1-bd, cmap='gray', origin='lower')\n",
    "addpoints(bd, 4)\n",
    "axxes[1].imshow(1-bd, cmap='gray', origin='lower')\n",
    "fig.tight_layout()\n",
    "plt.show()"
   ]
  },
  {
   "cell_type": "code",
   "execution_count": 14,
   "id": "8d19e22e",
   "metadata": {},
   "outputs": [],
   "source": [
    "#Clusterizing points\n",
    "xsumms = np.sum(bd, axis=-1)\n",
    "res = []\n",
    "for y, xsumm in enumerate(xsumms):\n",
    "    if xsumm == 0:\n",
    "        continue\n",
    "    ##TODO extend with zeros??\n",
    "    s = bd[y]\n",
    "    diffs = s[1:]-s[:-1]\n",
    "    starts = np.where(diffs==1)[0]\n",
    "    ends = np.where(diffs==-1)[0]\n",
    "    for i1, i2 in zip(starts,ends):\n",
    "        res.append([i1+1,i2,y])\n",
    "cl = clusterize(res, closeintervals)"
   ]
  },
  {
   "cell_type": "code",
   "execution_count": 15,
   "id": "d7f6b381",
   "metadata": {},
   "outputs": [
    {
     "data": {
      "text/plain": [
       "51"
      ]
     },
     "execution_count": 15,
     "metadata": {},
     "output_type": "execute_result"
    }
   ],
   "source": [
    "len(cl)"
   ]
  },
  {
   "cell_type": "code",
   "execution_count": 16,
   "id": "76d20d88",
   "metadata": {},
   "outputs": [
    {
     "data": {
      "text/plain": [
       "(51, 2)"
      ]
     },
     "execution_count": 16,
     "metadata": {},
     "output_type": "execute_result"
    }
   ],
   "source": [
    "#Centers of clusters\n",
    "xy = np.array(list(map(centerofmass, cl)))\n",
    "xy.shape"
   ]
  },
  {
   "cell_type": "code",
   "execution_count": 17,
   "id": "88af5a9c",
   "metadata": {},
   "outputs": [
    {
     "data": {
      "image/png": "[encoded data removed]",
      "text/plain": [
       "<Figure size 432x432 with 1 Axes>"
      ]
     },
     "metadata": {
      "needs_background": "light"
     },
     "output_type": "display_data"
    }
   ],
   "source": [
    "fig, axxes = plt.subplots(ncols=1, nrows=1, figsize=(6,6), sharex=True, sharey=True)\n",
    "axxes.imshow(1-bd, cmap='gray', origin='lower')\n",
    "for t in xy:\n",
    "    axxes.add_patch(plt.Circle((t[0], t[1]), 5, color='r', fill=False))\n",
    "fig.tight_layout()\n",
    "plt.show()"
   ]
  },
  {
   "cell_type": "code",
   "execution_count": null,
   "id": "1e1afc00",
   "metadata": {},
   "outputs": [],
   "source": []
  },
  {
   "cell_type": "code",
   "execution_count": null,
   "id": "d30855d3",
   "metadata": {},
   "outputs": [],
   "source": []
  },
  {
   "cell_type": "code",
   "execution_count": null,
   "id": "152effdb",
   "metadata": {},
   "outputs": [],
   "source": []
  },
  {
   "cell_type": "code",
   "execution_count": 165,
   "id": "6d99264c",
   "metadata": {},
   "outputs": [
    {
     "data": {
      "text/plain": [
       "(480, 480)"
      ]
     },
     "execution_count": 165,
     "metadata": {},
     "output_type": "execute_result"
    }
   ],
   "source": [
    "bd.shape"
   ]
  },
  {
   "cell_type": "code",
   "execution_count": 168,
   "id": "9a7aa039",
   "metadata": {},
   "outputs": [],
   "source": [
    "def detectshifts(bd):\n",
    "    xc = xcrosscorr(bd)\n",
    "    imgsize = bd.shape[0]\n",
    "    hfimgsize = imgsize // 2\n",
    "    xp1 = np.zeros_like(xc)\n",
    "    xp2 = np.zeros_like(xc)\n",
    "    xp1[:,hfimgsize-10:hfimgsize+10] = xc[:,hfimgsize-10:hfimgsize+10]\n",
    "    xp1[hfimgsize-10:hfimgsize+10,:] = 0\n",
    "    xp2[hfimgsize-10:hfimgsize+10,:] = xc[hfimgsize-10:hfimgsize+10,:]\n",
    "    xp2[:,hfimgsize-10:hfimgsize+10] = 0\n",
    "\n",
    "    p1 = np.argmax(xp1)\n",
    "    p2 = np.argmax(xp2)\n",
    "    yshift = np.array([p1 % imgsize - hfimgsize, p1 // imgsize - hfimgsize])\n",
    "    xshift = np.array([p2 % imgsize - hfimgsize, p2 // imgsize - hfimgsize])\n",
    "    \n",
    "    if xshift[0] < 0:\n",
    "        xshift *= -1\n",
    "    if yshift[1] < 0:\n",
    "        yshift *= -1\n",
    "    return xshift, yshift"
   ]
  },
  {
   "cell_type": "code",
   "execution_count": 169,
   "id": "42bdfefc",
   "metadata": {},
   "outputs": [
    {
     "data": {
      "text/plain": [
       "(array([25, -1]), array([-2, 31]))"
      ]
     },
     "execution_count": 169,
     "metadata": {},
     "output_type": "execute_result"
    }
   ],
   "source": [
    "detectshifts(bd)"
   ]
  },
  {
   "cell_type": "code",
   "execution_count": 24,
   "id": "48d8bc50",
   "metadata": {},
   "outputs": [],
   "source": [
    "\n"
   ]
  },
  {
   "cell_type": "code",
   "execution_count": null,
   "id": "ba3e2ffe",
   "metadata": {},
   "outputs": [],
   "source": []
  },
  {
   "cell_type": "code",
   "execution_count": null,
   "id": "86859222",
   "metadata": {},
   "outputs": [],
   "source": []
  },
  {
   "cell_type": "code",
   "execution_count": null,
   "id": "869e7662",
   "metadata": {},
   "outputs": [],
   "source": []
  },
  {
   "cell_type": "code",
   "execution_count": null,
   "id": "f79767dd",
   "metadata": {},
   "outputs": [],
   "source": []
  },
  {
   "cell_type": "code",
   "execution_count": null,
   "id": "bee2b40d",
   "metadata": {},
   "outputs": [],
   "source": []
  },
  {
   "cell_type": "code",
   "execution_count": null,
   "id": "1103bf19",
   "metadata": {},
   "outputs": [],
   "source": []
  },
  {
   "cell_type": "code",
   "execution_count": null,
   "id": "2a354a07",
   "metadata": {},
   "outputs": [],
   "source": []
  },
  {
   "cell_type": "code",
   "execution_count": 32,
   "id": "1012ea53",
   "metadata": {},
   "outputs": [],
   "source": [
    "def mhdist(x, y):\n",
    "    return np.sum(np.abs(np.array(x)-np.array(y)))"
   ]
  },
  {
   "cell_type": "code",
   "execution_count": 163,
   "id": "96e6799c",
   "metadata": {},
   "outputs": [],
   "source": [
    "vect = np.array([xshift,yshift])\n",
    "abdir = np.vstack((np.eye(2, dtype=int),-np.eye(2, dtype=int)))"
   ]
  },
  {
   "cell_type": "code",
   "execution_count": 164,
   "id": "9e735caf",
   "metadata": {},
   "outputs": [],
   "source": [
    "def detectnei(purecl, start=0):\n",
    "    visited = np.zeros(len(purecl)).astype(bool)\n",
    "    ixysites = np.zeros((len(purecl),2), dtype=int)\n",
    "    checked = np.zeros(len(purecl)).astype(bool)\n",
    "    visited[start] = True\n",
    "\n",
    "    while (np.sum(visited) < len(purecl)):\n",
    "        nvisited = np.sum(visited)\n",
    "        for ns in range(len(purecl)):\n",
    "\n",
    "            if checked[ns]:\n",
    "                continue\n",
    "            if not(visited[ns]):\n",
    "                continue\n",
    "            p = purecl[ns]\n",
    "\n",
    "            for ab in abdir:\n",
    "                pxy = p + np.dot(ab, vect)\n",
    "                xyd = {i:mhdist(c,pxy) for i,c in enumerate(purecl)}\n",
    "                xydm = min(xyd, key=xyd.get)\n",
    "                xydm, xyd[xydm]\n",
    "                if (xyd[xydm] < 10):\n",
    "                    visited[xydm] = True\n",
    "                    ixysites[xydm] = ixysites[ns] + ab\n",
    "            checked[ns] = True\n",
    "        if (np.sum(visited) == nvisited):\n",
    "            break\n",
    "            \n",
    "    return purecl[visited], ixysites[visited]"
   ]
  },
  {
   "cell_type": "code",
   "execution_count": null,
   "id": "b16eee82",
   "metadata": {},
   "outputs": [],
   "source": []
  },
  {
   "cell_type": "code",
   "execution_count": 162,
   "id": "cafad6d9",
   "metadata": {},
   "outputs": [
    {
     "data": {
      "text/plain": [
       "(array([[327.        ,  93.5       ],\n",
       "        [299.5       ,  96.        ],\n",
       "        [272.5       ,  98.        ],\n",
       "        [245.92307692, 100.11538462],\n",
       "        [220.5       , 102.        ],\n",
       "        [195.08333333, 104.08333333],\n",
       "        [170.5       , 106.        ],\n",
       "        [324.57894737, 126.10526316],\n",
       "        [270.4       , 129.6       ],\n",
       "        [297.        , 128.        ],\n",
       "        [244.15384615, 131.57692308],\n",
       "        [169.09090909, 136.18181818],\n",
       "        [219.        , 133.        ],\n",
       "        [193.5       , 135.        ],\n",
       "        [295.        , 159.5       ],\n",
       "        [322.        , 158.        ],\n",
       "        [242.43478261, 162.39130435],\n",
       "        [268.5       , 161.        ],\n",
       "        [217.10714286, 163.67857143],\n",
       "        [192.        , 165.        ],\n",
       "        [167.6       , 166.2       ],\n",
       "        [320.21428571, 190.        ],\n",
       "        [266.5       , 192.        ],\n",
       "        [293.07142857, 190.57142857],\n",
       "        [215.5       , 194.        ],\n",
       "        [166.16216216, 195.86486486],\n",
       "        [190.5       , 195.        ],\n",
       "        [241.        , 193.        ],\n",
       "        [317.92857143, 221.        ],\n",
       "        [264.56097561, 223.07317073],\n",
       "        [189.        , 225.        ],\n",
       "        [213.82608696, 223.86956522],\n",
       "        [165.        , 225.5       ],\n",
       "        [239.        , 223.5       ],\n",
       "        [237.30769231, 253.65384615],\n",
       "        [263.        , 253.        ],\n",
       "        [315.875     , 251.875     ],\n",
       "        [289.        , 253.        ],\n",
       "        [163.5       , 255.        ],\n",
       "        [212.        , 254.        ],\n",
       "        [313.5       , 283.        ],\n",
       "        [162.        , 283.5       ],\n",
       "        [186.        , 283.5       ],\n",
       "        [261.09677419, 283.41935484],\n",
       "        [287.        , 283.        ],\n",
       "        [211.        , 283.5       ],\n",
       "        [235.5       , 283.5       ]]),\n",
       " array([[ 2, -1],\n",
       "        [ 1, -1],\n",
       "        [ 0, -1],\n",
       "        [-1, -1],\n",
       "        [-2, -1],\n",
       "        [-3, -1],\n",
       "        [-4, -1],\n",
       "        [ 2,  0],\n",
       "        [ 0,  0],\n",
       "        [ 1,  0],\n",
       "        [-1,  0],\n",
       "        [-4,  0],\n",
       "        [-2,  0],\n",
       "        [-3,  0],\n",
       "        [ 1,  1],\n",
       "        [ 2,  1],\n",
       "        [-1,  1],\n",
       "        [ 0,  1],\n",
       "        [-2,  1],\n",
       "        [-3,  1],\n",
       "        [-4,  1],\n",
       "        [ 2,  2],\n",
       "        [ 0,  2],\n",
       "        [ 1,  2],\n",
       "        [-2,  2],\n",
       "        [-4,  2],\n",
       "        [-3,  2],\n",
       "        [-1,  2],\n",
       "        [ 2,  3],\n",
       "        [ 0,  3],\n",
       "        [-3,  3],\n",
       "        [-2,  3],\n",
       "        [-4,  3],\n",
       "        [-1,  3],\n",
       "        [-1,  4],\n",
       "        [ 0,  4],\n",
       "        [ 2,  4],\n",
       "        [ 1,  4],\n",
       "        [-4,  4],\n",
       "        [-2,  4],\n",
       "        [ 2,  5],\n",
       "        [-4,  5],\n",
       "        [-3,  5],\n",
       "        [ 0,  5],\n",
       "        [ 1,  5],\n",
       "        [-2,  5],\n",
       "        [-1,  5]]))"
      ]
     },
     "execution_count": 162,
     "metadata": {},
     "output_type": "execute_result"
    }
   ],
   "source": [
    "detectnei(xy, 8)"
   ]
  },
  {
   "cell_type": "code",
   "execution_count": 150,
   "id": "5a8aa0dc",
   "metadata": {},
   "outputs": [],
   "source": [
    "minc = np.min(ixysites[visited], axis=0)\n",
    "maxc = np.max(ixysites[visited], axis=0)"
   ]
  },
  {
   "cell_type": "code",
   "execution_count": 151,
   "id": "b1e6b163",
   "metadata": {},
   "outputs": [
    {
     "data": {
      "text/plain": [
       "(array([-6,  0]), array([0, 6]))"
      ]
     },
     "execution_count": 151,
     "metadata": {},
     "output_type": "execute_result"
    }
   ],
   "source": [
    "minc, maxc"
   ]
  },
  {
   "cell_type": "code",
   "execution_count": 152,
   "id": "9a318a90",
   "metadata": {},
   "outputs": [
    {
     "data": {
      "text/plain": [
       "array([ 6, 11, 20, 25, 32, 38, 41])"
      ]
     },
     "execution_count": 152,
     "metadata": {},
     "output_type": "execute_result"
    }
   ],
   "source": [
    "np.where(ixysites[visited][:,0] == -6)[0]"
   ]
  },
  {
   "cell_type": "code",
   "execution_count": 153,
   "id": "8e119416",
   "metadata": {},
   "outputs": [
    {
     "data": {
      "text/plain": [
       "array([ 0,  7, 15, 21, 28, 36, 40])"
      ]
     },
     "execution_count": 153,
     "metadata": {},
     "output_type": "execute_result"
    }
   ],
   "source": [
    "np.where(ixysites[visited][:,0] == 0)[0]"
   ]
  },
  {
   "cell_type": "code",
   "execution_count": 154,
   "id": "0388acaf",
   "metadata": {},
   "outputs": [
    {
     "data": {
      "text/plain": [
       "array([0, 1, 2, 3, 4, 5, 6])"
      ]
     },
     "execution_count": 154,
     "metadata": {},
     "output_type": "execute_result"
    }
   ],
   "source": [
    "np.where(ixysites[visited][:,1] == 0)[0]"
   ]
  },
  {
   "cell_type": "code",
   "execution_count": 155,
   "id": "dd0a6d55",
   "metadata": {},
   "outputs": [
    {
     "data": {
      "text/plain": [
       "array([40, 41, 42, 43, 44, 45, 46])"
      ]
     },
     "execution_count": 155,
     "metadata": {},
     "output_type": "execute_result"
    }
   ],
   "source": [
    "np.where(ixysites[visited][:,1] == 6)[0]"
   ]
  },
  {
   "cell_type": "code",
   "execution_count": 157,
   "id": "0e627994",
   "metadata": {},
   "outputs": [
    {
     "data": {
      "text/plain": [
       "array([[313.5       , 283.        ],\n",
       "       [162.        , 283.5       ],\n",
       "       [186.        , 283.5       ],\n",
       "       [261.09677419, 283.41935484],\n",
       "       [287.        , 283.        ],\n",
       "       [211.        , 283.5       ],\n",
       "       [235.5       , 283.5       ]])"
      ]
     },
     "execution_count": 157,
     "metadata": {},
     "output_type": "execute_result"
    }
   ],
   "source": [
    "xy[visited][_155]"
   ]
  },
  {
   "cell_type": "code",
   "execution_count": 134,
   "id": "b1411543",
   "metadata": {},
   "outputs": [
    {
     "data": {
      "text/plain": [
       "array([False,  True, False,  True, False,  True, False,  True, False,\n",
       "        True, False,  True,  True, False, False, False, False, False,\n",
       "       False, False, False, False, False, False, False, False, False,\n",
       "       False, False, False, False, False, False, False, False, False,\n",
       "       False, False, False, False, False, False, False, False, False,\n",
       "       False, False])"
      ]
     },
     "execution_count": 134,
     "metadata": {},
     "output_type": "execute_result"
    }
   ],
   "source": [
    "ixysites[visited][:,1] == 1"
   ]
  },
  {
   "cell_type": "code",
   "execution_count": 137,
   "id": "340628f6",
   "metadata": {},
   "outputs": [
    {
     "data": {
      "text/plain": [
       "array([False, False, False, False, False, False, False, False, False,\n",
       "       False, False, False,  True, False, False, False, False, False,\n",
       "       False, False, False, False, False, False, False, False, False,\n",
       "       False, False, False, False, False, False, False, False, False,\n",
       "       False, False, False, False, False, False, False, False, False,\n",
       "       False, False])"
      ]
     },
     "execution_count": 137,
     "metadata": {},
     "output_type": "execute_result"
    }
   ],
   "source": [
    "np.logical_and(ixysites[visited][:,0] == -5, ixysites[visited][:,1] == 1)"
   ]
  },
  {
   "cell_type": "code",
   "execution_count": 139,
   "id": "89bc3554",
   "metadata": {},
   "outputs": [
    {
     "data": {
      "text/plain": [
       "(array([ 1,  3,  5,  7,  9, 10, 11, 12, 12, 13, 15, 40, 41, 42]),\n",
       " array([1, 1, 1, 1, 1, 0, 1, 0, 1, 0, 0, 0, 0, 0]))"
      ]
     },
     "execution_count": 139,
     "metadata": {},
     "output_type": "execute_result"
    }
   ],
   "source": [
    "np.where(ixysites[visited] == [-5,1])"
   ]
  },
  {
   "cell_type": "code",
   "execution_count": null,
   "id": "596f8611",
   "metadata": {},
   "outputs": [],
   "source": []
  },
  {
   "cell_type": "code",
   "execution_count": null,
   "id": "46ab9698",
   "metadata": {},
   "outputs": [],
   "source": []
  },
  {
   "cell_type": "code",
   "execution_count": null,
   "id": "72f92df3",
   "metadata": {},
   "outputs": [],
   "source": []
  },
  {
   "cell_type": "code",
   "execution_count": null,
   "id": "fe782962",
   "metadata": {},
   "outputs": [],
   "source": []
  },
  {
   "cell_type": "code",
   "execution_count": 34,
   "id": "1f7839bc",
   "metadata": {},
   "outputs": [],
   "source": [
    "a1c, a1p = findcorner([0,-1], [-1,0])\n",
    "h8c, h8p = findcorner([0,1], [1,0])\n",
    "a8c, a8p = findcorner([0,1], [-1,0])\n",
    "h1c, h1p = findcorner([0,-1], [1,0])"
   ]
  },
  {
   "cell_type": "code",
   "execution_count": 35,
   "id": "034fba54",
   "metadata": {},
   "outputs": [
    {
     "data": {
      "text/plain": [
       "(array([6, 0]), array([6, 0]))"
      ]
     },
     "execution_count": 35,
     "metadata": {},
     "output_type": "execute_result"
    }
   ],
   "source": [
    "h1c-a1c, h8c-a8c"
   ]
  },
  {
   "cell_type": "code",
   "execution_count": 36,
   "id": "985c550d",
   "metadata": {},
   "outputs": [
    {
     "data": {
      "text/plain": [
       "(array([0, 6]), array([0, 6]))"
      ]
     },
     "execution_count": 36,
     "metadata": {},
     "output_type": "execute_result"
    }
   ],
   "source": [
    "h8c-h1c, a8c-a1c"
   ]
  },
  {
   "cell_type": "code",
   "execution_count": 39,
   "id": "04861408",
   "metadata": {},
   "outputs": [
    {
     "data": {
      "image/png": "[encoded data removed]",
      "text/plain": [
       "<Figure size 432x432 with 1 Axes>"
      ]
     },
     "metadata": {
      "needs_background": "light"
     },
     "output_type": "display_data"
    }
   ],
   "source": [
    "fig, axxes = plt.subplots(ncols=1, nrows=1, figsize=(6,6), sharex=True, sharey=True)\n",
    "axxes.imshow(np.ones((IMGSIZE,IMGSIZE)), cmap='gray', origin='lower', vmin=0, vmax=1)\n",
    "for t in purecl:\n",
    "    axxes.add_patch(plt.Circle((t[0], t[1]), 2, color='r'))\n",
    "for u in [a1p,a8p,h1p,h8p]:\n",
    "    t = purecl[u]\n",
    "    axxes.add_patch(plt.Circle((t[0], t[1]), 5, color='b', fill=False))\n",
    "fig.tight_layout()\n",
    "plt.show()"
   ]
  },
  {
   "cell_type": "code",
   "execution_count": null,
   "id": "1d5eea3a",
   "metadata": {},
   "outputs": [],
   "source": []
  },
  {
   "cell_type": "code",
   "execution_count": null,
   "id": "22986e8b",
   "metadata": {},
   "outputs": [],
   "source": []
  }
 ],
 "metadata": {
  "kernelspec": {
   "display_name": "Python 3 (ipykernel)",
   "language": "python",
   "name": "python3"
  },
  "language_info": {
   "codemirror_mode": {
    "name": "ipython",
    "version": 3
   },
   "file_extension": ".py",
   "mimetype": "text/x-python",
   "name": "python",
   "nbconvert_exporter": "python",
   "pygments_lexer": "ipython3",
   "version": "3.8.12"
  }
 },
 "nbformat": 4,
 "nbformat_minor": 5
}
