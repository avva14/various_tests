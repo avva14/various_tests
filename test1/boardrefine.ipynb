{
 "cells": [
  {
   "cell_type": "code",
   "execution_count": 1,
   "id": "a94cb0ec",
   "metadata": {},
   "outputs": [],
   "source": [
    "import os\n",
    "import numpy as np\n",
    "import cv2\n",
    "from PIL import Image\n",
    "import matplotlib.pyplot as plt"
   ]
  },
  {
   "cell_type": "code",
   "execution_count": 2,
   "id": "f8e3031c",
   "metadata": {},
   "outputs": [],
   "source": [
    "from chessutils import find_coeffs\n",
    "from boardgen import chessboard"
   ]
  },
  {
   "cell_type": "code",
   "execution_count": 3,
   "id": "b465da68",
   "metadata": {},
   "outputs": [],
   "source": [
    "from clusterization import clusterize"
   ]
  },
  {
   "cell_type": "code",
   "execution_count": 4,
   "id": "6d765a1c",
   "metadata": {},
   "outputs": [],
   "source": [
    "def intersect(i1, i2):\n",
    "    return (i2[0] <= i1[1]) and (i1[0] <= i2[1])\n",
    "def closeintervals(i1, i2):\n",
    "    return intersect(i1, i2) and (abs(i1[2]-i2[2]) == 1)\n",
    "\n",
    "def centerofmass(c):\n",
    "    xm = 0\n",
    "    ym = 0\n",
    "    nm = 0\n",
    "    for i in c:\n",
    "        ns = i[1]-i[0]+1\n",
    "        xm += 0.5*(i[1]+i[0])*ns\n",
    "        ym += i[2]*ns\n",
    "        nm += ns\n",
    "    return xm/nm, ym/nm"
   ]
  },
  {
   "cell_type": "code",
   "execution_count": 5,
   "id": "78dd6bdf",
   "metadata": {},
   "outputs": [],
   "source": [
    "PATH_TO_IMG = 'img'"
   ]
  },
  {
   "cell_type": "code",
   "execution_count": 7,
   "id": "8b1fe4e5",
   "metadata": {},
   "outputs": [],
   "source": [
    "IMGSIZE = 480\n",
    "MAXSHEAR = 0.15\n",
    "MINSCALE = 0.5\n",
    "NC = 5\n",
    "\n",
    "HFIMGSIZE = IMGSIZE // 2"
   ]
  },
  {
   "cell_type": "code",
   "execution_count": 8,
   "id": "2e760fda",
   "metadata": {},
   "outputs": [],
   "source": [
    "figimgs = [f for f in os.listdir(PATH_TO_IMG) if f.split('_')[0]=='Chess']\n",
    "figuresimgs = dict()\n",
    "for f in figimgs:\n",
    "    fn = f.split('_')[1].split('4')[0]\n",
    "    img = cv2.imread(os.path.join(PATH_TO_IMG, f))\n",
    "    figuresimgs[fn] = cv2.cvtColor(img, cv2.COLOR_BGR2GRAY)\n",
    "\n",
    "figs = ['p', 'b', 'n', 'r', 'q', 'k']\n",
    "colors = ['d', 'l']"
   ]
  },
  {
   "cell_type": "code",
   "execution_count": 9,
   "id": "1619f2fd",
   "metadata": {},
   "outputs": [],
   "source": [
    "parameters = {\n",
    "    'numcell':8,\n",
    "    'cellsize':45,\n",
    "    'figures':figs,\n",
    "    'colors':colors,\n",
    "    'shear':MAXSHEAR,\n",
    "    'scale':MINSCALE,\n",
    "}"
   ]
  },
  {
   "cell_type": "code",
   "execution_count": 10,
   "id": "c6ff31ec",
   "metadata": {},
   "outputs": [],
   "source": [
    "def randomboardpoints(nc, params):\n",
    "    boardsize = params['cellsize'] * params['numcell']\n",
    "    mask = 255*np.ones((boardsize,boardsize), np.uint8)\n",
    "    nb = params['numcell']*params['numcell']\n",
    "    npt = np.random.randint(1,nc+1,size=nb)\n",
    "    for i in range(nb):\n",
    "        xp = i % params['numcell']\n",
    "        yp = i // params['numcell']\n",
    "        sz = npt[i]\n",
    "        if (xp != 0) and (yp != 0):\n",
    "            mask[yp*params['cellsize']-sz:yp*params['cellsize']+sz,xp*params['cellsize']-sz:xp*params['cellsize']+sz] = 0\n",
    "    return mask"
   ]
  },
  {
   "cell_type": "code",
   "execution_count": null,
   "id": "017e54f5",
   "metadata": {},
   "outputs": [],
   "source": []
  },
  {
   "cell_type": "code",
   "execution_count": 11,
   "id": "3d4643a1",
   "metadata": {},
   "outputs": [],
   "source": [
    "def boardmask(imgsize):\n",
    "    boardimage, _, vecs = chessboard(figuresimgs, np.random.rand(13), imgsize, parameters)\n",
    "    blank_mask = randomboardpoints(NC, parameters)\n",
    "\n",
    "    img = Image.fromarray(blank_mask, 'L')\n",
    "    coeffs = find_coeffs(\n",
    "         vecs.reshape((4,2)),\n",
    "         [(0, 0), (blank_mask.shape[1], 0), (blank_mask.shape[1], blank_mask.shape[0]), (0, blank_mask.shape[0])])\n",
    "\n",
    "    img = img.transform((imgsize, imgsize), Image.PERSPECTIVE, coeffs, Image.NEAREST, fillcolor = 'white')\n",
    "    return 1-np.asarray(img)/255, vecs"
   ]
  },
  {
   "cell_type": "code",
   "execution_count": 12,
   "id": "1baf5c3d",
   "metadata": {},
   "outputs": [],
   "source": [
    "def addpoints(img, num):\n",
    "    xyadd = np.random.rand(num,3)\n",
    "    for i in range(num):\n",
    "        xc = int(img.shape[1]*xyadd[i,0])\n",
    "        yc = int(img.shape[0]*xyadd[i,1])\n",
    "        nc = int(NC*xyadd[i,2])+1\n",
    "        img[yc-nc:yc+nc,xc-nc:xc+nc] = 1\n",
    "    return"
   ]
  },
  {
   "cell_type": "code",
   "execution_count": 194,
   "id": "bc4d25a5",
   "metadata": {},
   "outputs": [
    {
     "data": {
      "image/png": "[encoded data removed]",
      "text/plain": [
       "<Figure size 864x432 with 2 Axes>"
      ]
     },
     "metadata": {
      "needs_background": "light"
     },
     "output_type": "display_data"
    }
   ],
   "source": [
    "bd, vv = boardmask(IMGSIZE)\n",
    "\n",
    "fig, axxes = plt.subplots(ncols=2, nrows=1, figsize=(12,6), sharex=True, sharey=True)\n",
    "axxes[0].imshow(1-bd, cmap='gray', origin='lower')\n",
    "axxes[0].scatter(vv.reshape((4,2)).T[0], vv.reshape((4,2)).T[1])\n",
    "addpoints(bd, 4)\n",
    "axxes[1].imshow(1-bd, cmap='gray', origin='lower')\n",
    "fig.tight_layout()\n",
    "plt.show()"
   ]
  },
  {
   "cell_type": "code",
   "execution_count": 166,
   "id": "8d19e22e",
   "metadata": {},
   "outputs": [],
   "source": [
    "#Clusterizing points\n",
    "xsumms = np.sum(bd, axis=-1)\n",
    "res = []\n",
    "for y, xsumm in enumerate(xsumms):\n",
    "    if xsumm == 0:\n",
    "        continue\n",
    "    ##TODO extend with zeros??\n",
    "    s = bd[y]\n",
    "    diffs = s[1:]-s[:-1]\n",
    "    starts = np.where(diffs==1)[0]\n",
    "    ends = np.where(diffs==-1)[0]\n",
    "    for i1, i2 in zip(starts,ends):\n",
    "        res.append([i1+1,i2,y])\n",
    "cl = clusterize(res, closeintervals)"
   ]
  },
  {
   "cell_type": "code",
   "execution_count": 167,
   "id": "d7f6b381",
   "metadata": {},
   "outputs": [
    {
     "data": {
      "text/plain": [
       "53"
      ]
     },
     "execution_count": 167,
     "metadata": {},
     "output_type": "execute_result"
    }
   ],
   "source": [
    "len(cl)"
   ]
  },
  {
   "cell_type": "code",
   "execution_count": 168,
   "id": "76d20d88",
   "metadata": {},
   "outputs": [],
   "source": [
    "#Centers of clusters\n",
    "xy = np.array(list(map(centerofmass, cl)))"
   ]
  },
  {
   "cell_type": "code",
   "execution_count": 169,
   "id": "935b3b89",
   "metadata": {},
   "outputs": [
    {
     "data": {
      "text/plain": [
       "(53, 2)"
      ]
     },
     "execution_count": 169,
     "metadata": {},
     "output_type": "execute_result"
    }
   ],
   "source": [
    "xy.shape"
   ]
  },
  {
   "cell_type": "code",
   "execution_count": 170,
   "id": "88af5a9c",
   "metadata": {},
   "outputs": [
    {
     "data": {
      "image/png": "[encoded data removed]",
      "text/plain": [
       "<Figure size 432x432 with 1 Axes>"
      ]
     },
     "metadata": {
      "needs_background": "light"
     },
     "output_type": "display_data"
    }
   ],
   "source": [
    "fig, axxes = plt.subplots(ncols=1, nrows=1, figsize=(6,6), sharex=True, sharey=True)\n",
    "axxes.imshow(1-bd, cmap='gray', origin='lower')\n",
    "for t in xy:\n",
    "    axxes.add_patch(plt.Circle((t[0], t[1]), 2, color='r'))\n",
    "fig.tight_layout()\n",
    "plt.show()"
   ]
  },
  {
   "cell_type": "code",
   "execution_count": null,
   "id": "1e1afc00",
   "metadata": {},
   "outputs": [],
   "source": []
  },
  {
   "cell_type": "code",
   "execution_count": null,
   "id": "d30855d3",
   "metadata": {},
   "outputs": [],
   "source": []
  },
  {
   "cell_type": "code",
   "execution_count": null,
   "id": "152effdb",
   "metadata": {},
   "outputs": [],
   "source": []
  },
  {
   "cell_type": "code",
   "execution_count": null,
   "id": "6d99264c",
   "metadata": {},
   "outputs": [],
   "source": []
  },
  {
   "cell_type": "code",
   "execution_count": 21,
   "id": "e1914753",
   "metadata": {},
   "outputs": [],
   "source": [
    "def xcrosscorr(bd):\n",
    "    cftbd = np.fft.fft2(bd)\n",
    "\n",
    "    cross = np.real(np.fft.ifft2(np.conj(cftbd)*cftbd))\n",
    "    xross = np.zeros((IMGSIZE,IMGSIZE))\n",
    "\n",
    "    for i in range(IMGSIZE*IMGSIZE):\n",
    "        x = i % IMGSIZE\n",
    "        y = i // IMGSIZE\n",
    "        xs = (x - HFIMGSIZE) % IMGSIZE\n",
    "        ys = (y - HFIMGSIZE) % IMGSIZE\n",
    "        xross[y,x] = cross[ys,xs]\n",
    "    return xross"
   ]
  },
  {
   "cell_type": "code",
   "execution_count": 171,
   "id": "15ec5fe8",
   "metadata": {},
   "outputs": [],
   "source": [
    "xross = xcrosscorr(bd)"
   ]
  },
  {
   "cell_type": "code",
   "execution_count": 172,
   "id": "07ecec3b",
   "metadata": {},
   "outputs": [],
   "source": [
    "xp1 = np.zeros_like(xross)\n",
    "xp2 = np.zeros_like(xross)\n",
    "xp1[:,HFIMGSIZE-10:HFIMGSIZE+10] = xross[:,HFIMGSIZE-10:HFIMGSIZE+10]\n",
    "xp1[HFIMGSIZE-10:HFIMGSIZE+10,:] = 0\n",
    "xp2[HFIMGSIZE-10:HFIMGSIZE+10,:] = xross[HFIMGSIZE-10:HFIMGSIZE+10,:]\n",
    "xp2[:,HFIMGSIZE-10:HFIMGSIZE+10] = 0"
   ]
  },
  {
   "cell_type": "code",
   "execution_count": 173,
   "id": "5df5cfe5",
   "metadata": {},
   "outputs": [
    {
     "data": {
      "image/png": "[encoded data removed]",
      "text/plain": [
       "<Figure size 864x288 with 3 Axes>"
      ]
     },
     "metadata": {
      "needs_background": "light"
     },
     "output_type": "display_data"
    }
   ],
   "source": [
    "fig, axxes = plt.subplots(ncols=3, nrows=1, figsize=(12,4), sharex=True, sharey=True)\n",
    "axxes[0].imshow(xp1[HFIMGSIZE-60:HFIMGSIZE+60,HFIMGSIZE-60:HFIMGSIZE+60], origin='lower')\n",
    "axxes[1].imshow(xp2[HFIMGSIZE-60:HFIMGSIZE+60,HFIMGSIZE-60:HFIMGSIZE+60], origin='lower')\n",
    "axxes[2].imshow(xross[HFIMGSIZE-60:HFIMGSIZE+60,HFIMGSIZE-60:HFIMGSIZE+60], origin='lower')\n",
    "fig.tight_layout()\n",
    "plt.show()"
   ]
  },
  {
   "cell_type": "code",
   "execution_count": 174,
   "id": "131625fa",
   "metadata": {},
   "outputs": [
    {
     "data": {
      "image/png": "[encoded data removed]",
      "text/plain": [
       "<Figure size 864x288 with 3 Axes>"
      ]
     },
     "metadata": {
      "needs_background": "light"
     },
     "output_type": "display_data"
    }
   ],
   "source": [
    "fig, axxes = plt.subplots(ncols=3, nrows=1, figsize=(12,4), sharex=True, sharey=True)\n",
    "axxes[0].imshow(xp1, origin='lower')\n",
    "axxes[1].imshow(xp2, origin='lower')\n",
    "axxes[2].imshow(xross, origin='lower')\n",
    "fig.tight_layout()\n",
    "plt.show()"
   ]
  },
  {
   "cell_type": "code",
   "execution_count": 175,
   "id": "e5635641",
   "metadata": {},
   "outputs": [
    {
     "data": {
      "text/plain": [
       "((-34, -1), (0, -25))"
      ]
     },
     "execution_count": 175,
     "metadata": {},
     "output_type": "execute_result"
    }
   ],
   "source": [
    "p1 = np.argmax(xp1)\n",
    "p2 = np.argmax(xp2)\n",
    "yshift = (p1 % IMGSIZE - HFIMGSIZE, p1 // IMGSIZE - HFIMGSIZE)\n",
    "xshift = (p2 % IMGSIZE - HFIMGSIZE, p2 // IMGSIZE - HFIMGSIZE)\n",
    "xshift, yshift"
   ]
  },
  {
   "cell_type": "code",
   "execution_count": null,
   "id": "c858aec5",
   "metadata": {},
   "outputs": [],
   "source": []
  },
  {
   "cell_type": "code",
   "execution_count": 176,
   "id": "32f0be58",
   "metadata": {},
   "outputs": [],
   "source": [
    "xyll = []\n",
    "for t in xy:\n",
    "    xyll.append(list(t))"
   ]
  },
  {
   "cell_type": "code",
   "execution_count": 177,
   "id": "31169bfa",
   "metadata": {},
   "outputs": [],
   "source": [
    "def vclose(x1, x2):\n",
    "    xs1 = [x1[0] + yshift[0],x1[1] + yshift[1]]\n",
    "    diff1 = abs(xs1[0] - x2[0]) + abs(xs1[1] - x2[1])\n",
    "    xs2 = [x2[0] + yshift[0],x2[1] + yshift[1]]\n",
    "    diff2 = abs(x1[0] - xs2[0]) + abs(x1[1] - xs2[1])\n",
    "    return diff1 < 10 or diff2 < 10\n",
    "\n",
    "def hclose(x1, x2):\n",
    "    xs1 = [x1[0] + xshift[0],x1[1] + xshift[1]]\n",
    "    diff1 = abs(xs1[0] - x2[0]) + abs(xs1[1] - x2[1])\n",
    "    xs2 = [x2[0] + xshift[0],x2[1] + xshift[1]]\n",
    "    diff2 = abs(x1[0] - xs2[0]) + abs(x1[1] - xs2[1])\n",
    "    return diff1 < 10 or diff2 < 10\n",
    "\n",
    "def centerclose(x1, x2):\n",
    "    return hclose(x1, x2) or vclose(x1, x2)"
   ]
  },
  {
   "cell_type": "code",
   "execution_count": 178,
   "id": "d6f0b069",
   "metadata": {},
   "outputs": [
    {
     "data": {
      "text/plain": [
       "5"
      ]
     },
     "execution_count": 178,
     "metadata": {},
     "output_type": "execute_result"
    }
   ],
   "source": [
    "ccl = clusterize(xyll, centerclose)\n",
    "len(ccl)"
   ]
  },
  {
   "cell_type": "code",
   "execution_count": 179,
   "id": "f4ab96ae",
   "metadata": {},
   "outputs": [
    {
     "data": {
      "text/plain": [
       "[1, 1, 49, 1, 1]"
      ]
     },
     "execution_count": 179,
     "metadata": {},
     "output_type": "execute_result"
    }
   ],
   "source": [
    "[len(cc) for cc in ccl]"
   ]
  },
  {
   "cell_type": "code",
   "execution_count": 180,
   "id": "11e247ce",
   "metadata": {},
   "outputs": [],
   "source": [
    "ixmax = np.argmax([len(cc) for cc in ccl])"
   ]
  },
  {
   "cell_type": "code",
   "execution_count": 181,
   "id": "a437a336",
   "metadata": {},
   "outputs": [],
   "source": [
    "purecl = ccl[ixmax]"
   ]
  },
  {
   "cell_type": "code",
   "execution_count": 182,
   "id": "db4fd6b3",
   "metadata": {},
   "outputs": [],
   "source": [
    "def vxclose(ix1, ix2):\n",
    "    x1 = purecl[ix1]\n",
    "    x2 = purecl[ix2]\n",
    "    xs1 = [x1[0] + yshift[0],x1[1] + yshift[1]]\n",
    "    diff1 = abs(xs1[0] - x2[0]) + abs(xs1[1] - x2[1])\n",
    "    xs2 = [x2[0] + yshift[0],x2[1] + yshift[1]]\n",
    "    diff2 = abs(x1[0] - xs2[0]) + abs(x1[1] - xs2[1])\n",
    "    return diff1 < 10 or diff2 < 10\n",
    "\n",
    "def hxclose(ix1, ix2):\n",
    "    x1 = purecl[ix1]\n",
    "    x2 = purecl[ix2]\n",
    "    xs1 = [x1[0] + xshift[0],x1[1] + xshift[1]]\n",
    "    diff1 = abs(xs1[0] - x2[0]) + abs(xs1[1] - x2[1])\n",
    "    xs2 = [x2[0] + xshift[0],x2[1] + xshift[1]]\n",
    "    diff2 = abs(x1[0] - xs2[0]) + abs(x1[1] - xs2[1])\n",
    "    return diff1 < 10 or diff2 < 10\n"
   ]
  },
  {
   "cell_type": "code",
   "execution_count": 183,
   "id": "d0f00aba",
   "metadata": {},
   "outputs": [
    {
     "data": {
      "text/plain": [
       "49"
      ]
     },
     "execution_count": 183,
     "metadata": {},
     "output_type": "execute_result"
    }
   ],
   "source": [
    "len(purecl)"
   ]
  },
  {
   "cell_type": "code",
   "execution_count": 184,
   "id": "c829d282",
   "metadata": {},
   "outputs": [],
   "source": [
    "vvx = clusterize(np.arange(49), vxclose)\n",
    "hhx = clusterize(np.arange(49), hxclose)"
   ]
  },
  {
   "cell_type": "code",
   "execution_count": null,
   "id": "01db59d9",
   "metadata": {},
   "outputs": [],
   "source": []
  },
  {
   "cell_type": "code",
   "execution_count": 185,
   "id": "2492cd12",
   "metadata": {},
   "outputs": [
    {
     "data": {
      "text/plain": [
       "[[3, 4, 6, 33, 35, 36, 0],\n",
       " [9, 7, 11, 29, 32, 38, 1],\n",
       " [5, 48, 8, 31, 34, 37, 2],\n",
       " [12, 26, 13, 28, 30, 39, 10],\n",
       " [15, 23, 25, 27, 41, 40, 14],\n",
       " [18, 21, 24, 44, 43, 42, 16],\n",
       " [19, 20, 22, 46, 45, 47, 17]]"
      ]
     },
     "execution_count": 185,
     "metadata": {},
     "output_type": "execute_result"
    }
   ],
   "source": [
    "vvx"
   ]
  },
  {
   "cell_type": "code",
   "execution_count": 186,
   "id": "4ee6d0e7",
   "metadata": {},
   "outputs": [
    {
     "data": {
      "text/plain": [
       "[[48, 1, 13, 15, 16, 17, 0],\n",
       " [3, 9, 12, 14, 18, 19, 2],\n",
       " [5, 7, 10, 23, 21, 20, 4],\n",
       " [8, 11, 26, 25, 24, 22, 6],\n",
       " [28, 44, 29, 31, 33, 46, 27],\n",
       " [32, 41, 34, 35, 43, 45, 30],\n",
       " [37, 38, 39, 40, 42, 47, 36]]"
      ]
     },
     "execution_count": 186,
     "metadata": {},
     "output_type": "execute_result"
    }
   ],
   "source": [
    "hhx"
   ]
  },
  {
   "cell_type": "code",
   "execution_count": 187,
   "id": "2d47b552",
   "metadata": {},
   "outputs": [
    {
     "data": {
      "text/plain": [
       "([7, 7, 7, 7, 7, 7, 7], [7, 7, 7, 7, 7, 7, 7])"
      ]
     },
     "execution_count": 187,
     "metadata": {},
     "output_type": "execute_result"
    }
   ],
   "source": [
    "[len(vv) for vv in vvx], [len(hh) for hh in hhx]"
   ]
  },
  {
   "cell_type": "code",
   "execution_count": 188,
   "id": "472786fe",
   "metadata": {},
   "outputs": [],
   "source": [
    "ss = np.array([[purecl[i] for i in vv] for vv in vvx])\n",
    "tt = np.array([[purecl[i] for i in hh] for hh in hhx])"
   ]
  },
  {
   "cell_type": "code",
   "execution_count": 189,
   "id": "63c41a37",
   "metadata": {},
   "outputs": [],
   "source": [
    "s = np.mean(ss, axis=1)\n",
    "t = np.mean(tt, axis=1)"
   ]
  },
  {
   "cell_type": "code",
   "execution_count": 190,
   "id": "69eb87d3",
   "metadata": {},
   "outputs": [],
   "source": [
    "sortx = np.argsort(s[:,0])\n",
    "sorty = np.argsort(t[:,1])"
   ]
  },
  {
   "cell_type": "code",
   "execution_count": 191,
   "id": "eee412e6",
   "metadata": {},
   "outputs": [
    {
     "data": {
      "text/plain": [
       "array([0, 2, 1, 3, 4, 5, 6])"
      ]
     },
     "execution_count": 191,
     "metadata": {},
     "output_type": "execute_result"
    }
   ],
   "source": [
    "sortx"
   ]
  },
  {
   "cell_type": "code",
   "execution_count": 192,
   "id": "d3728c5c",
   "metadata": {},
   "outputs": [
    {
     "data": {
      "text/plain": [
       "array([0, 1, 2, 3, 4, 5, 6])"
      ]
     },
     "execution_count": 192,
     "metadata": {},
     "output_type": "execute_result"
    }
   ],
   "source": [
    "sorty"
   ]
  },
  {
   "cell_type": "code",
   "execution_count": 137,
   "id": "db922ea3",
   "metadata": {},
   "outputs": [],
   "source": [
    "cls = ['red','blue','green','yellow','cyan','pink','magenta']"
   ]
  },
  {
   "cell_type": "code",
   "execution_count": 193,
   "id": "2ef1ea1f",
   "metadata": {},
   "outputs": [
    {
     "data": {
      "image/png": "[encoded data removed]",
      "text/plain": [
       "<Figure size 720x360 with 2 Axes>"
      ]
     },
     "metadata": {
      "needs_background": "light"
     },
     "output_type": "display_data"
    }
   ],
   "source": [
    "fig, axxes = plt.subplots(ncols=2, nrows=1, figsize=(10,5), sharex=True, sharey=True)\n",
    "axxes[0].imshow(1-bd, cmap='gray', origin='lower', alpha=0.5)\n",
    "axxes[1].imshow(1-bd, cmap='gray', origin='lower', alpha=0.5)\n",
    "for i, v in enumerate(purecl):\n",
    "    if (i in vvx[0]):\n",
    "        axxes[1].add_patch(plt.Circle((v[0], v[1]), 2, color=cls[0]))\n",
    "    if (i in vvx[6]):\n",
    "        axxes[1].add_patch(plt.Circle((v[0], v[1]), 2, color=cls[1]))\n",
    "    if (i in hhx[0]):\n",
    "        axxes[1].add_patch(plt.Circle((v[0], v[1]), 5, color=cls[2], fill=False))\n",
    "    if (i in hhx[6]):\n",
    "        axxes[1].add_patch(plt.Circle((v[0], v[1]), 5, color=cls[3], fill=False))\n",
    "plt.show()"
   ]
  },
  {
   "cell_type": "code",
   "execution_count": null,
   "id": "9c007057",
   "metadata": {},
   "outputs": [],
   "source": []
  },
  {
   "cell_type": "code",
   "execution_count": null,
   "id": "1d5eea3a",
   "metadata": {},
   "outputs": [],
   "source": []
  },
  {
   "cell_type": "code",
   "execution_count": null,
   "id": "22986e8b",
   "metadata": {},
   "outputs": [],
   "source": []
  }
 ],
 "metadata": {
  "kernelspec": {
   "display_name": "Python 3 (ipykernel)",
   "language": "python",
   "name": "python3"
  },
  "language_info": {
   "codemirror_mode": {
    "name": "ipython",
    "version": 3
   },
   "file_extension": ".py",
   "mimetype": "text/x-python",
   "name": "python",
   "nbconvert_exporter": "python",
   "pygments_lexer": "ipython3",
   "version": "3.8.11"
  }
 },
 "nbformat": 4,
 "nbformat_minor": 5
}
