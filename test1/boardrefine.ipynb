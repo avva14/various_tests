{
 "cells": [
  {
   "cell_type": "code",
   "execution_count": null,
   "id": "a94cb0ec",
   "metadata": {},
   "outputs": [],
   "source": [
    "import os\n",
    "import numpy as np\n",
    "import cv2\n",
    "from PIL import Image\n",
    "import matplotlib.pyplot as plt"
   ]
  },
  {
   "cell_type": "code",
   "execution_count": null,
   "id": "f8e3031c",
   "metadata": {},
   "outputs": [],
   "source": [
    "from chessutils import find_coeffs\n",
    "from boardgen import chessboard"
   ]
  },
  {
   "cell_type": "code",
   "execution_count": null,
   "id": "47d450f2",
   "metadata": {},
   "outputs": [],
   "source": [
    "from cornersdetect import cornersdetection"
   ]
  },
  {
   "cell_type": "code",
   "execution_count": null,
   "id": "78dd6bdf",
   "metadata": {},
   "outputs": [],
   "source": [
    "PATH_TO_IMG = 'img'"
   ]
  },
  {
   "cell_type": "code",
   "execution_count": null,
   "id": "8b1fe4e5",
   "metadata": {},
   "outputs": [],
   "source": [
    "IMGSIZE = 480\n",
    "MAXSHEAR = 0.15\n",
    "MINSCALE = 0.5\n",
    "NC = 5\n",
    "\n",
    "HFIMGSIZE = IMGSIZE // 2"
   ]
  },
  {
   "cell_type": "code",
   "execution_count": null,
   "id": "2e760fda",
   "metadata": {},
   "outputs": [],
   "source": [
    "figimgs = [f for f in os.listdir(PATH_TO_IMG) if f.split('_')[0]=='Chess']\n",
    "figuresimgs = dict()\n",
    "for f in figimgs:\n",
    "    fn = f.split('_')[1].split('4')[0]\n",
    "    img = cv2.imread(os.path.join(PATH_TO_IMG, f))\n",
    "    figuresimgs[fn] = cv2.cvtColor(img, cv2.COLOR_BGR2GRAY)\n",
    "\n",
    "figs = ['p', 'b', 'n', 'r', 'q', 'k']\n",
    "colors = ['d', 'l']"
   ]
  },
  {
   "cell_type": "code",
   "execution_count": null,
   "id": "1619f2fd",
   "metadata": {},
   "outputs": [],
   "source": [
    "parameters = {\n",
    "    'numcell':8,\n",
    "    'cellsize':45,\n",
    "    'figures':figs,\n",
    "    'colors':colors,\n",
    "    'shear':MAXSHEAR,\n",
    "    'scale':MINSCALE,\n",
    "}"
   ]
  },
  {
   "cell_type": "code",
   "execution_count": null,
   "id": "c6ff31ec",
   "metadata": {},
   "outputs": [],
   "source": [
    "def randomboardpoints(nc, params):\n",
    "    boardsize = params['cellsize'] * params['numcell']\n",
    "    mask = 255*np.ones((boardsize,boardsize), np.uint8)\n",
    "    nb = params['numcell']*params['numcell']\n",
    "    npt = np.random.randint(1,nc+1,size=nb)\n",
    "    nzz = np.random.randint(nb, size=2)\n",
    "    npt[nzz] = 0\n",
    "    for i in range(nb):\n",
    "        xp = i % params['numcell']\n",
    "        yp = i // params['numcell']\n",
    "        sz = npt[i]\n",
    "        if (xp != 0) and (yp != 0) and sz > 0:\n",
    "            mask[yp*params['cellsize']-sz:yp*params['cellsize']+sz,xp*params['cellsize']-sz:xp*params['cellsize']+sz] = 0\n",
    "    return mask"
   ]
  },
  {
   "cell_type": "code",
   "execution_count": null,
   "id": "3d4643a1",
   "metadata": {},
   "outputs": [],
   "source": [
    "def boardmask(imgsize):\n",
    "    boardimage, _, vecs = chessboard(figuresimgs, np.random.rand(13), imgsize, parameters)\n",
    "    blank_mask = randomboardpoints(NC, parameters)\n",
    "\n",
    "    img = Image.fromarray(blank_mask, 'L')\n",
    "    coeffs = find_coeffs(\n",
    "         vecs.reshape((4,2)),\n",
    "         [(0, 0), (blank_mask.shape[1], 0), (blank_mask.shape[1], blank_mask.shape[0]), (0, blank_mask.shape[0])])\n",
    "\n",
    "    img = img.transform((imgsize, imgsize), Image.PERSPECTIVE, coeffs, Image.NEAREST, fillcolor = 'white')\n",
    "    return 1-np.asarray(img)/255"
   ]
  },
  {
   "cell_type": "code",
   "execution_count": null,
   "id": "1baf5c3d",
   "metadata": {},
   "outputs": [],
   "source": [
    "def addpoints(img, num):\n",
    "    xyadd = np.random.rand(num,3)\n",
    "    for i in range(num):\n",
    "        xc = int(img.shape[1]*xyadd[i,0])\n",
    "        yc = int(img.shape[0]*xyadd[i,1])\n",
    "        nc = int(NC*xyadd[i,2])+1\n",
    "        img[yc-nc:yc+nc,xc-nc:xc+nc] = 1\n",
    "    return"
   ]
  },
  {
   "cell_type": "code",
   "execution_count": null,
   "id": "bc4d25a5",
   "metadata": {},
   "outputs": [],
   "source": [
    "bd = boardmask(IMGSIZE)\n",
    "addpoints(bd, 2)\n",
    "bz = 1-bd\n",
    "zz = cornersdetection(bz)"
   ]
  },
  {
   "cell_type": "code",
   "execution_count": null,
   "id": "88af5a9c",
   "metadata": {},
   "outputs": [],
   "source": [
    "fig, axxes = plt.subplots(ncols=1, nrows=1, figsize=(6,6), sharex=True, sharey=True)\n",
    "axxes.imshow(bz, cmap='gray', origin='lower')\n",
    "for t in zz:\n",
    "    axxes.add_patch(plt.Circle((t[0], t[1]), 5, color='b', fill=False))\n",
    "fig.tight_layout()\n",
    "plt.show()"
   ]
  },
  {
   "cell_type": "code",
   "execution_count": null,
   "id": "71440222",
   "metadata": {},
   "outputs": [],
   "source": []
  },
  {
   "cell_type": "code",
   "execution_count": null,
   "id": "b465da68",
   "metadata": {},
   "outputs": [],
   "source": [
    "from cornersdetect import detectsdots"
   ]
  },
  {
   "cell_type": "code",
   "execution_count": null,
   "id": "a4820a0c",
   "metadata": {},
   "outputs": [],
   "source": [
    "xy = detectsdots(bz)\n",
    "xy.shape"
   ]
  },
  {
   "cell_type": "code",
   "execution_count": null,
   "id": "44588f35",
   "metadata": {},
   "outputs": [],
   "source": [
    "fig, axxes = plt.subplots(ncols=1, nrows=1, figsize=(6,6), sharex=True, sharey=True)\n",
    "axxes.imshow(bz, cmap='gray', origin='lower')\n",
    "for t in xy:\n",
    "    axxes.add_patch(plt.Circle((t[0], t[1]), 5, color='r', fill=False))\n",
    "fig.tight_layout()\n",
    "plt.show()"
   ]
  },
  {
   "cell_type": "code",
   "execution_count": null,
   "id": "a12c2f38",
   "metadata": {},
   "outputs": [],
   "source": [
    "from cornersdetect import detectshifts"
   ]
  },
  {
   "cell_type": "code",
   "execution_count": null,
   "id": "72ee2971",
   "metadata": {},
   "outputs": [],
   "source": [
    "xyshift = detectshifts(bz)\n",
    "xyshift"
   ]
  }
 ],
 "metadata": {
  "kernelspec": {
   "display_name": "Python 3 (ipykernel)",
   "language": "python",
   "name": "python3"
  },
  "language_info": {
   "codemirror_mode": {
    "name": "ipython",
    "version": 3
   },
   "file_extension": ".py",
   "mimetype": "text/x-python",
   "name": "python",
   "nbconvert_exporter": "python",
   "pygments_lexer": "ipython3",
   "version": "3.8.12"
  }
 },
 "nbformat": 4,
 "nbformat_minor": 5
}
