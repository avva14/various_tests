{
 "cells": [
  {
   "cell_type": "markdown",
   "id": "dfd051d2",
   "metadata": {},
   "source": [
    "# boardcnn.py EXPLAINED"
   ]
  },
  {
   "cell_type": "code",
   "execution_count": null,
   "id": "b02d17f5",
   "metadata": {},
   "outputs": [],
   "source": [
    "import os\n",
    "import matplotlib.pyplot as plt\n",
    "import numpy as np\n",
    "import cv2\n",
    "from PIL import Image\n",
    "import tensorflow as tf"
   ]
  },
  {
   "cell_type": "code",
   "execution_count": null,
   "id": "d400eab4",
   "metadata": {},
   "outputs": [],
   "source": [
    "from cornersdetect import cornersdetection\n",
    "from chessutils import find_coeffs"
   ]
  },
  {
   "cell_type": "code",
   "execution_count": null,
   "id": "2283b33a",
   "metadata": {},
   "outputs": [],
   "source": [
    "colors = np.array([' ', 'w', 'b'])\n",
    "figures = np.array([' ','p','b','n','r','q','k'])"
   ]
  },
  {
   "cell_type": "code",
   "execution_count": null,
   "id": "c82d10e9",
   "metadata": {},
   "outputs": [],
   "source": [
    "NUMCELL = 8\n",
    "CELL = 60\n",
    "IMGSIZE = NUMCELL*CELL"
   ]
  },
  {
   "cell_type": "code",
   "execution_count": null,
   "id": "ddf5a79d",
   "metadata": {},
   "outputs": [],
   "source": [
    "#Loading models\n",
    "model = tf.keras.models.load_model('models/unet_board_v4.h5')\n",
    "classifier = tf.keras.models.load_model('models/class_figure_col_v4.h5', compile=False)"
   ]
  },
  {
   "cell_type": "code",
   "execution_count": null,
   "id": "2a171119",
   "metadata": {},
   "outputs": [],
   "source": [
    "#Folder with images\n",
    "#PATH_TO_TST = 'test'\n",
    "PATH_TO_TST = '../../out/'"
   ]
  },
  {
   "cell_type": "code",
   "execution_count": null,
   "id": "bb7f989c",
   "metadata": {},
   "outputs": [],
   "source": [
    "#Images in folder\n",
    "fl = [os.path.join(PATH_TO_TST, f) for f in os.listdir(PATH_TO_TST) if f.split('.')[-1] == 'png']\n",
    "fl"
   ]
  },
  {
   "cell_type": "code",
   "execution_count": null,
   "id": "9040a0e3",
   "metadata": {},
   "outputs": [],
   "source": [
    "filename = fl[0]"
   ]
  },
  {
   "cell_type": "code",
   "execution_count": null,
   "id": "c42e0e5e",
   "metadata": {},
   "outputs": [],
   "source": [
    "#Loading image\n",
    "img = cv2.imread(filename)\n",
    "img = cv2.cvtColor(img, cv2.COLOR_BGR2GRAY)\n",
    "img = cv2.resize(img, (IMGSIZE,IMGSIZE))\n",
    "feed = np.expand_dims(img/255, axis=(0,-1))\n",
    "feed.shape"
   ]
  },
  {
   "cell_type": "code",
   "execution_count": null,
   "id": "359897fe",
   "metadata": {},
   "outputs": [],
   "source": [
    "#Detecting characteristic points\n",
    "pred = np.squeeze(model.predict(feed))\n",
    "points = np.argmax(pred, axis=-1)"
   ]
  },
  {
   "cell_type": "code",
   "execution_count": null,
   "id": "b2ce5ebd",
   "metadata": {},
   "outputs": [],
   "source": [
    "#Visualizing\n",
    "fig, axx = plt.subplots(nrows=1, ncols=2, figsize=(10,5), sharey=True)\n",
    "axx[0].imshow(img, cmap='gray')\n",
    "axx[1].imshow(points, cmap='gray')\n",
    "fig.tight_layout()\n",
    "plt.show()"
   ]
  },
  {
   "cell_type": "code",
   "execution_count": null,
   "id": "a5d6d87f",
   "metadata": {},
   "outputs": [],
   "source": [
    "corners = cornersdetection(points)\n",
    "corners"
   ]
  },
  {
   "cell_type": "code",
   "execution_count": null,
   "id": "b3a6faad",
   "metadata": {},
   "outputs": [],
   "source": [
    "xyc = np.mean(corners, axis=0)\n",
    "xyc"
   ]
  },
  {
   "cell_type": "code",
   "execution_count": null,
   "id": "874ca14c",
   "metadata": {},
   "outputs": [],
   "source": [
    "half = 0.5*np.max([np.sum(np.abs(p-xyc)) for p in corners])\n",
    "half"
   ]
  },
  {
   "cell_type": "code",
   "execution_count": null,
   "id": "fa5d5ff7",
   "metadata": {},
   "outputs": [],
   "source": [
    "newc = xyc + half*np.array([[-1,-1],[1,-1],[-1,1],[1,1]])\n",
    "newc"
   ]
  },
  {
   "cell_type": "code",
   "execution_count": null,
   "id": "890ff294",
   "metadata": {},
   "outputs": [],
   "source": [
    "coeffs = find_coeffs(newc, corners)"
   ]
  },
  {
   "cell_type": "code",
   "execution_count": null,
   "id": "da410ecf",
   "metadata": {},
   "outputs": [],
   "source": [
    "brdsize = half / 6 * NUMCELL"
   ]
  },
  {
   "cell_type": "code",
   "execution_count": null,
   "id": "83b5d6f9",
   "metadata": {},
   "outputs": [],
   "source": [
    "#Transforming/cropping\n",
    "img = Image.fromarray(img)\n",
    "img = img.transform(img.size, Image.PERSPECTIVE, coeffs, Image.BICUBIC, fill='white')\n",
    "img = img.crop((xyc[0]-brdsize, xyc[1]-brdsize, xyc[0]+brdsize, xyc[1]+brdsize))"
   ]
  },
  {
   "cell_type": "code",
   "execution_count": null,
   "id": "eca5582c",
   "metadata": {},
   "outputs": [],
   "source": [
    "img"
   ]
  }
 ],
 "metadata": {
  "kernelspec": {
   "display_name": "Python 3 (ipykernel)",
   "language": "python",
   "name": "python3"
  },
  "language_info": {
   "codemirror_mode": {
    "name": "ipython",
    "version": 3
   },
   "file_extension": ".py",
   "mimetype": "text/x-python",
   "name": "python",
   "nbconvert_exporter": "python",
   "pygments_lexer": "ipython3",
   "version": "3.8.12"
  }
 },
 "nbformat": 4,
 "nbformat_minor": 5
}
