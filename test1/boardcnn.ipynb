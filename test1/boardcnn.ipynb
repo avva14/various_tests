{
 "cells": [
  {
   "cell_type": "markdown",
   "id": "dfd051d2",
   "metadata": {},
   "source": [
    "# boardcnn.py EXPLAINED"
   ]
  },
  {
   "cell_type": "code",
   "execution_count": null,
   "id": "b02d17f5",
   "metadata": {},
   "outputs": [],
   "source": [
    "import os\n",
    "import matplotlib.pyplot as plt\n",
    "import numpy as np\n",
    "import cv2\n",
    "from PIL import Image\n",
    "import tensorflow as tf"
   ]
  },
  {
   "cell_type": "code",
   "execution_count": null,
   "id": "d400eab4",
   "metadata": {},
   "outputs": [],
   "source": [
    "from clusterization import clusterize\n",
    "from chessutils import find_coeffs"
   ]
  },
  {
   "cell_type": "code",
   "execution_count": null,
   "id": "b4e779da",
   "metadata": {},
   "outputs": [],
   "source": [
    "def intersect(i1, i2):\n",
    "    return (i2[0] <= i1[1]) and (i1[0] <= i2[1])\n",
    "def closeintervals(i1, i2):\n",
    "    return intersect(i1, i2) and (abs(i1[2]-i2[2]) == 1)"
   ]
  },
  {
   "cell_type": "code",
   "execution_count": null,
   "id": "629b2cac",
   "metadata": {},
   "outputs": [],
   "source": [
    "def centerofmass(c):\n",
    "    xm = 0\n",
    "    ym = 0\n",
    "    nm = 0\n",
    "    for i in c:\n",
    "        ns = i[1]-i[0]+1\n",
    "        xm += 0.5*(i[1]+i[0])*ns\n",
    "        ym += i[2]*ns\n",
    "        nm += ns\n",
    "    return xm/nm, ym/nm"
   ]
  },
  {
   "cell_type": "code",
   "execution_count": null,
   "id": "2283b33a",
   "metadata": {},
   "outputs": [],
   "source": [
    "colors = np.array([' ', 'w', 'b'])\n",
    "figures = np.array([' ','p','b','n','r','q','k'])"
   ]
  },
  {
   "cell_type": "code",
   "execution_count": null,
   "id": "c82d10e9",
   "metadata": {},
   "outputs": [],
   "source": [
    "NUMCELL = 8\n",
    "CELL = 60\n",
    "IMGSIZE = NUMCELL*CELL"
   ]
  },
  {
   "cell_type": "code",
   "execution_count": null,
   "id": "ddf5a79d",
   "metadata": {},
   "outputs": [],
   "source": [
    "#Loading models\n",
    "model = tf.keras.models.load_model('models/unet_board_v4.h5')\n",
    "classifier = tf.keras.models.load_model('models/class_figure_col_v2.h5', compile=False)"
   ]
  },
  {
   "cell_type": "code",
   "execution_count": null,
   "id": "2a171119",
   "metadata": {},
   "outputs": [],
   "source": [
    "#Folder with images\n",
    "PATH_TO_TST = 'out'"
   ]
  },
  {
   "cell_type": "code",
   "execution_count": null,
   "id": "bb7f989c",
   "metadata": {},
   "outputs": [],
   "source": [
    "#Images in folder\n",
    "fl = [os.path.join(PATH_TO_TST, f) for f in os.listdir(PATH_TO_TST) if f.split('.')[-1] == 'png']\n",
    "fl"
   ]
  },
  {
   "cell_type": "code",
   "execution_count": null,
   "id": "9040a0e3",
   "metadata": {},
   "outputs": [],
   "source": [
    "filename = fl[0]"
   ]
  },
  {
   "cell_type": "code",
   "execution_count": null,
   "id": "c42e0e5e",
   "metadata": {},
   "outputs": [],
   "source": [
    "#Loading image\n",
    "img = cv2.imread(filename)\n",
    "img = cv2.cvtColor(img, cv2.COLOR_BGR2GRAY)\n",
    "img = cv2.resize(img, (IMGSIZE,IMGSIZE))\n",
    "feed = np.expand_dims(img/255, axis=(0,-1))\n",
    "feed.shape"
   ]
  },
  {
   "cell_type": "code",
   "execution_count": null,
   "id": "359897fe",
   "metadata": {},
   "outputs": [],
   "source": [
    "#Detecting characteristic points\n",
    "pred = np.squeeze(model.predict(feed))\n",
    "points = np.argmax(pred, axis=-1)"
   ]
  },
  {
   "cell_type": "code",
   "execution_count": null,
   "id": "b2ce5ebd",
   "metadata": {},
   "outputs": [],
   "source": [
    "#Visualizing\n",
    "fig, axx = plt.subplots(nrows=1, ncols=2, figsize=(10,5), sharey=True)\n",
    "axx[0].imshow(img, cmap='gray')\n",
    "axx[1].imshow(points, cmap='gray')\n",
    "fig.tight_layout()\n",
    "plt.show()"
   ]
  },
  {
   "cell_type": "code",
   "execution_count": null,
   "id": "0bbfcb68",
   "metadata": {},
   "outputs": [],
   "source": [
    "#Clusterizing points\n",
    "invpoints = 1-points\n",
    "xsumms = np.sum(invpoints, axis=-1)\n",
    "res = []\n",
    "for y, xsumm in enumerate(xsumms):\n",
    "    if xsumm == 0:\n",
    "        continue\n",
    "    ##TODO extend with zeros??\n",
    "    s = invpoints[y]\n",
    "    diffs = s[1:]-s[:-1]\n",
    "    starts = np.where(diffs==1)[0]\n",
    "    ends = np.where(diffs==-1)[0]\n",
    "    for i1, i2 in zip(starts,ends):\n",
    "        res.append([i1+1,i2,y])\n",
    "cl = clusterize(res, closeintervals)"
   ]
  },
  {
   "cell_type": "code",
   "execution_count": null,
   "id": "ef630e3b",
   "metadata": {},
   "outputs": [],
   "source": [
    "#Visualizing\n",
    "clcol = np.zeros((IMGSIZE,IMGSIZE), dtype=np.int32)\n",
    "for i, c in enumerate(cl):\n",
    "    for k in c:\n",
    "        clcol[k[2],k[0]:k[1]+1] = i+1\n",
    "\n",
    "fig, axx = plt.subplots(nrows=1, ncols=2, figsize=(10,5), sharey=True, sharex=True)\n",
    "axx[0].imshow(points, cmap='gray')\n",
    "axx[1].imshow(clcol, vmin=0, vmax=len(cl))\n",
    "fig.tight_layout()\n",
    "plt.show()"
   ]
  },
  {
   "cell_type": "code",
   "execution_count": null,
   "id": "0b8e2fb1",
   "metadata": {},
   "outputs": [],
   "source": []
  },
  {
   "cell_type": "code",
   "execution_count": null,
   "id": "176f3214",
   "metadata": {},
   "outputs": [],
   "source": [
    "#Centers of clusters\n",
    "xy = np.array(list(map(centerofmass, cl)))\n",
    "#Mutual center\n",
    "xyc = np.mean(xy, axis=0)"
   ]
  },
  {
   "cell_type": "code",
   "execution_count": null,
   "id": "734278b1",
   "metadata": {},
   "outputs": [],
   "source": [
    "#(Manhattan) distances between centers and xyc\n",
    "mhdists = np.array([np.sum(np.abs(p-xyc)) for p in xy])\n",
    "#Most distant clusters\n",
    "corners = xy[np.argsort(mhdists)[-4:]]"
   ]
  },
  {
   "cell_type": "code",
   "execution_count": null,
   "id": "1005ff2f",
   "metadata": {},
   "outputs": [],
   "source": [
    "#half of diagonal\n",
    "half = 0.5*np.max(mhdists)\n",
    "#new corners\n",
    "newc = xyc + half*np.array([[-1,-1],[1,-1],[-1,1],[1,1]])"
   ]
  },
  {
   "cell_type": "code",
   "execution_count": null,
   "id": "1e314d48",
   "metadata": {},
   "outputs": [],
   "source": [
    "#matching between initial and new corners\n",
    "ixmatch = [np.argmin(np.sum(np.abs(p-corners), axis=1)) for p in newc]\n",
    "cornersmatch = corners[ixmatch]"
   ]
  },
  {
   "cell_type": "code",
   "execution_count": null,
   "id": "28ce0306",
   "metadata": {},
   "outputs": [],
   "source": [
    "#widening board\n",
    "brdsize = half / 6 * NUMCELL\n",
    "boardcorners = xyc + brdsize*np.array([[-1,-1],[1,-1],[-1,1],[1,1]])"
   ]
  },
  {
   "cell_type": "code",
   "execution_count": null,
   "id": "fbd983bd",
   "metadata": {},
   "outputs": [],
   "source": [
    "#Transformation coefficients\n",
    "coeffs = find_coeffs(newc, cornersmatch)"
   ]
  },
  {
   "cell_type": "code",
   "execution_count": null,
   "id": "5eb33b3b",
   "metadata": {},
   "outputs": [],
   "source": [
    "#Transforming/cropping\n",
    "img = Image.fromarray(img)\n",
    "img = img.transform(img.size, Image.PERSPECTIVE, coeffs, Image.BICUBIC, fill='white')\n",
    "img = img.crop((xyc[0]-brdsize, xyc[1]-brdsize, xyc[0]+brdsize, xyc[1]+brdsize))"
   ]
  },
  {
   "cell_type": "code",
   "execution_count": null,
   "id": "fc3a708e",
   "metadata": {},
   "outputs": [],
   "source": [
    "#resizing\n",
    "img = img.resize((IMGSIZE,IMGSIZE))"
   ]
  },
  {
   "cell_type": "code",
   "execution_count": null,
   "id": "37f6d3a0",
   "metadata": {},
   "outputs": [],
   "source": [
    "#Separating by fields\n",
    "cropped = np.asarray(img)\n",
    "stacked = np.zeros((NUMCELL*NUMCELL,CELL,CELL))\n",
    "for i in range(NUMCELL*NUMCELL):\n",
    "    xp = i % NUMCELL\n",
    "    yp = i // NUMCELL\n",
    "    stacked[i] = cropped[yp*CELL:(yp+1)*CELL,xp*CELL:(xp+1)*CELL]/255\n",
    "stacked = np.expand_dims(stacked,axis=-1)"
   ]
  },
  {
   "cell_type": "code",
   "execution_count": null,
   "id": "b62c8ad6",
   "metadata": {},
   "outputs": [],
   "source": [
    "#predicting figures and colors\n",
    "preds = classifier.predict(stacked)"
   ]
  },
  {
   "cell_type": "code",
   "execution_count": null,
   "id": "14139cbf",
   "metadata": {},
   "outputs": [],
   "source": [
    "#Predicted figures\n",
    "figures[np.argmax(preds[:,0:7],axis=-1)].reshape((8,8))"
   ]
  },
  {
   "cell_type": "code",
   "execution_count": null,
   "id": "3c72fa1e",
   "metadata": {},
   "outputs": [],
   "source": [
    "#Predicted colors\n",
    "colors[np.argmax(preds[:,7:10],axis=-1)].reshape((8,8))"
   ]
  },
  {
   "cell_type": "code",
   "execution_count": null,
   "id": "7c65e980",
   "metadata": {},
   "outputs": [],
   "source": [
    "img.resize((120,120))"
   ]
  },
  {
   "cell_type": "code",
   "execution_count": null,
   "id": "2a449b75",
   "metadata": {},
   "outputs": [],
   "source": []
  },
  {
   "cell_type": "code",
   "execution_count": null,
   "id": "945bda03",
   "metadata": {},
   "outputs": [],
   "source": []
  },
  {
   "cell_type": "code",
   "execution_count": null,
   "id": "6bcf4903",
   "metadata": {},
   "outputs": [],
   "source": []
  },
  {
   "cell_type": "code",
   "execution_count": null,
   "id": "d328ac64",
   "metadata": {},
   "outputs": [],
   "source": []
  }
 ],
 "metadata": {
  "kernelspec": {
   "display_name": "Python 3 (ipykernel)",
   "language": "python",
   "name": "python3"
  },
  "language_info": {
   "codemirror_mode": {
    "name": "ipython",
    "version": 3
   },
   "file_extension": ".py",
   "mimetype": "text/x-python",
   "name": "python",
   "nbconvert_exporter": "python",
   "pygments_lexer": "ipython3",
   "version": "3.8.11"
  }
 },
 "nbformat": 4,
 "nbformat_minor": 5
}
