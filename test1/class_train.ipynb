{
 "cells": [
  {
   "cell_type": "code",
   "execution_count": 1,
   "metadata": {
    "id": "EWSAZdXyziQ7"
   },
   "outputs": [
    {
     "name": "stderr",
     "output_type": "stream",
     "text": [
      "2021-12-10 02:38:53.182743: W tensorflow/stream_executor/platform/default/dso_loader.cc:64] Could not load dynamic library 'libcudart.so.11.0'; dlerror: libcudart.so.11.0: cannot open shared object file: No such file or directory\n",
      "2021-12-10 02:38:53.182771: I tensorflow/stream_executor/cuda/cudart_stub.cc:29] Ignore above cudart dlerror if you do not have a GPU set up on your machine.\n"
     ]
    }
   ],
   "source": [
    "import tensorflow as tf"
   ]
  },
  {
   "cell_type": "code",
   "execution_count": 2,
   "metadata": {},
   "outputs": [
    {
     "data": {
      "text/plain": [
       "'2.7.0'"
      ]
     },
     "execution_count": 2,
     "metadata": {},
     "output_type": "execute_result"
    }
   ],
   "source": [
    "tf.__version__"
   ]
  },
  {
   "cell_type": "code",
   "execution_count": 3,
   "metadata": {
    "id": "s2Mmc4Mv5vE1"
   },
   "outputs": [],
   "source": [
    "import os\n",
    "import numpy as np\n",
    "import cv2\n",
    "from PIL import Image, ImageDraw\n",
    "import matplotlib.pyplot as plt\n",
    "from math import ceil"
   ]
  },
  {
   "cell_type": "code",
   "execution_count": 4,
   "metadata": {},
   "outputs": [],
   "source": [
    "from chessutils import find_coeffs"
   ]
  },
  {
   "cell_type": "markdown",
   "metadata": {
    "id": "sOed6L6tmnMp"
   },
   "source": [
    "# Datagenerator"
   ]
  },
  {
   "cell_type": "code",
   "execution_count": 5,
   "metadata": {
    "id": "ICLuHwcPl2Z3"
   },
   "outputs": [],
   "source": [
    "PATH_TO_IMG = 'img'"
   ]
  },
  {
   "cell_type": "code",
   "execution_count": 6,
   "metadata": {
    "id": "f4lKjeVRmz0u"
   },
   "outputs": [],
   "source": [
    "CELL = 45\n",
    "NUMCELL = 8\n",
    "BOARDSIZE = CELL*NUMCELL"
   ]
  },
  {
   "cell_type": "code",
   "execution_count": 7,
   "metadata": {
    "id": "zIPdg6WjWCCq"
   },
   "outputs": [],
   "source": [
    "IMGSIZE = 480\n",
    "MAXSHEAR = 0.15\n",
    "SIZE = IMGSIZE // NUMCELL"
   ]
  },
  {
   "cell_type": "code",
   "execution_count": 8,
   "metadata": {
    "id": "HjrEWj-_nliW"
   },
   "outputs": [],
   "source": [
    "figimgs = [f for f in os.listdir(PATH_TO_IMG) if f.split('_')[0]=='Chess']\n",
    "figuresimgs = dict()\n",
    "for f in figimgs:\n",
    "    fn = f.split('_')[1].split('4')[0]\n",
    "    img = cv2.imread(os.path.join(PATH_TO_IMG, f))\n",
    "    figuresimgs[fn] = cv2.cvtColor(img, cv2.COLOR_BGR2GRAY)\n",
    "\n",
    "figs = ['x', 'p', 'b', 'n', 'r', 'q', 'k']\n",
    "codelist = np.array(['xx', 'pd', 'pl', 'bd', 'bl', 'nd', 'nl', 'rd', 'rl', 'qd', 'ql', 'kd', 'kl'])"
   ]
  },
  {
   "cell_type": "code",
   "execution_count": 9,
   "metadata": {
    "id": "WQFtpVuGRFxt"
   },
   "outputs": [],
   "source": [
    "def distort(img, distortrnd):\n",
    "    ns = img.size[0]\n",
    "    m = (distortrnd[:8]) * 0.25 * ns\n",
    "\n",
    "    x1, y1 = -m[0:2]\n",
    "    x2, y2 = ns+m[2], m[3]\n",
    "\n",
    "    x3, y3 = ns+m[4], ns-m[5]\n",
    "    x4, y4 = -m[6], ns+m[7]\n",
    "\n",
    "    xmin = min(x1, x4)\n",
    "    if (xmin < 0):\n",
    "        x1 -= xmin\n",
    "        x2 -= xmin\n",
    "        x3 -= xmin\n",
    "        x4 -= xmin\n",
    "\n",
    "    ymin = min(y1, y2)\n",
    "    if (ymin < 0):\n",
    "        y1 -= ymin\n",
    "        y2 -= ymin\n",
    "        y3 -= ymin\n",
    "        y4 -= ymin\n",
    "\n",
    "    new_width = int(ceil(max(x2,x3,ns)))\n",
    "    new_height = int(ceil(max(y3,y4,ns)))\n",
    "\n",
    "    coeffs = find_coeffs(\n",
    "        [(x1, y1), (x2, y2), (x3, y3), (x4, y4)],\n",
    "        [(0, 0), (ns, 0), (ns, ns), (0, ns)])\n",
    "    img = img.transform((new_width, new_height), Image.PERSPECTIVE, coeffs, Image.BICUBIC, fillcolor = 0)\n",
    "    return img\n"
   ]
  },
  {
   "cell_type": "code",
   "execution_count": 10,
   "metadata": {
    "id": "sOa2ADrY86JW"
   },
   "outputs": [],
   "source": [
    "def moire(rndarr, sz):\n",
    "    '''\n",
    "    distortrnd(8)\n",
    "    '''\n",
    "    ns = 2*sz\n",
    "    grey = 64\n",
    "    blank = (255-grey) + grey*np.ones((ns,ns), np.uint8)\n",
    "    for i in range(ns):\n",
    "        if i % 3 != 0:\n",
    "            continue\n",
    "        blank[i] = grey*np.ones(ns, np.uint8)\n",
    "    img = Image.fromarray(blank)\n",
    "\n",
    "    rndxxx = rndarr*np.array([1,-1,1,-1,1,-1,1,-1])\n",
    "    \n",
    "    im1 = distort(img, rndarr)\n",
    "    im2 = distort(img, rndxxx)\n",
    "    \n",
    "    xs = max(im1.size[0], im2.size[0])\n",
    "    ys = max(im1.size[1], im2.size[1])\n",
    "    \n",
    "    im1 = im1.resize((xs,ys)) \n",
    "    im2 = im2.resize((xs,ys)) \n",
    "    \n",
    "    re1 = np.asarray(im1)\n",
    "    re2 = np.asarray(im2)\n",
    "    \n",
    "    ims = Image.fromarray(np.maximum(im1,im2))\n",
    "    ims = ims.crop((sz//2, sz//2, sz//2+sz, sz//2+sz))\n",
    "    ims = ims.resize((120,120))\n",
    "    ims = ims.resize((sz,sz))\n",
    "    \n",
    "    res = np.asarray(ims) / 255\n",
    "    \n",
    "    maxvalshift = 1 - res.max()\n",
    "    res += maxvalshift\n",
    "\n",
    "    return res"
   ]
  },
  {
   "cell_type": "code",
   "execution_count": 11,
   "metadata": {
    "id": "Qbzl_SdXUfc1"
   },
   "outputs": [],
   "source": [
    "def boarddistortgen():\n",
    "    blank_image = np.zeros((BOARDSIZE,BOARDSIZE), np.uint8)\n",
    "    codedvec = np.random.randint(7,size=NUMCELL*NUMCELL)\n",
    "    codedcol = np.zeros(NUMCELL*NUMCELL)\n",
    "    for i, cod in enumerate(codedvec):\n",
    "        xp = i % NUMCELL\n",
    "        yp = i // NUMCELL\n",
    "        dice = np.random.randint(2)\n",
    "        figcolcod = 0\n",
    "        codedcol[i] = 0\n",
    "        if cod != 0:\n",
    "            codedcol[i] = dice+1\n",
    "            figcolcod = cod*2-dice\n",
    "        fldcol = 'l' if (xp+yp) % 2 == 0 else 'd'\n",
    "        fkey = f'{codelist[figcolcod]}{fldcol}'\n",
    "        blank_image[yp*CELL:(yp+1)*CELL,xp*CELL:(xp+1)*CELL] = figuresimgs[fkey]\n",
    "\n",
    "    img = Image.fromarray(blank_image, 'L')\n",
    "    distortrnd = np.random.rand(13)\n",
    "\n",
    "    m = (2 * distortrnd[:8] - 1) * MAXSHEAR * BOARDSIZE\n",
    "\n",
    "    x1, y1 = m[0:2]\n",
    "    x2, y2 = BOARDSIZE+m[2], m[3]\n",
    "    x3, y3 = BOARDSIZE+m[4], BOARDSIZE+m[5]\n",
    "    x4, y4 = m[6], BOARDSIZE+m[7]\n",
    "\n",
    "    xmin = min(x1, x4)\n",
    "    if (xmin < 0):\n",
    "        x1 -= xmin\n",
    "        x2 -= xmin\n",
    "        x3 -= xmin\n",
    "        x4 -= xmin\n",
    "\n",
    "    ymin = min(y1, y2)\n",
    "    if (ymin < 0):\n",
    "        y1 -= ymin\n",
    "        y2 -= ymin\n",
    "        y3 -= ymin\n",
    "        y4 -= ymin\n",
    "\n",
    "    greyscale = int((0.5 + distortrnd[8]*0.5) * 255)\n",
    "\n",
    "    new_width = int(ceil(max(x2,x3,BOARDSIZE)))\n",
    "    new_height = int(ceil(max(y3,y4,BOARDSIZE)))\n",
    "\n",
    "    coeffs = find_coeffs(\n",
    "        [(x1, y1), (x2, y2), (x3, y3), (x4, y4)],\n",
    "        [(0, 0), (BOARDSIZE, 0), (BOARDSIZE, BOARDSIZE), (0, BOARDSIZE)])\n",
    "    \n",
    "    img = img.transform((new_width, new_height), Image.PERSPECTIVE, coeffs, Image.BICUBIC, fillcolor = greyscale)\n",
    "\n",
    "    offsets = distortrnd[9:11]\n",
    "    width, height = img.size\n",
    "\n",
    "    xoff = (IMGSIZE - width) * offsets[0]\n",
    "    yoff = (IMGSIZE - height) * offsets[1]\n",
    "\n",
    "    offset = (int(round(xoff)), int(round(yoff)))\n",
    "\n",
    "    background = moire(np.random.rand(8), IMGSIZE)\n",
    "\n",
    "    empty = Image.new('L', (IMGSIZE, IMGSIZE), greyscale)\n",
    "    empty.paste(img, offset)\n",
    "\n",
    "    result = (background * np.asarray(empty)).astype(np.uint8)\n",
    "\n",
    "    vec = np.array([x1+offset[0], y1+offset[1], x2+offset[0], y2+offset[1], x3+offset[0], y3+offset[1], x4+offset[0], y4+offset[1]])\n",
    "    distortedvec = vec + 20 * (np.random.rand(8) - 0.5)\n",
    "    distortedvec = np.clip(distortedvec, 0, IMGSIZE-1)\n",
    "    \n",
    "    coeffs = find_coeffs(\n",
    "        [(0, 0), (IMGSIZE, 0), (IMGSIZE, IMGSIZE), (0, IMGSIZE)],\n",
    "        np.reshape(distortedvec, (4,2)))\n",
    "    \n",
    "    img = Image.fromarray(result, 'L')\n",
    "    img = img.transform((IMGSIZE,IMGSIZE), Image.PERSPECTIVE, coeffs, Image.BICUBIC, fillcolor = greyscale)\n",
    "\n",
    "    brd = np.asarray(img) / 255\n",
    "\n",
    "    nrand = np.random.randint(NUMCELL*NUMCELL)\n",
    "    nrand = 0\n",
    "    xrand = nrand % NUMCELL\n",
    "    yrand = nrand // NUMCELL\n",
    "    \n",
    "    coded = np.array([codedvec[nrand], codedcol[nrand]])\n",
    "    \n",
    "    brd_out = np.expand_dims(brd[yrand*SIZE:(yrand+1)*SIZE,xrand*SIZE:(xrand+1)*SIZE], axis=-1)\n",
    "    \n",
    "    yield brd_out, coded"
   ]
  },
  {
   "cell_type": "code",
   "execution_count": null,
   "metadata": {},
   "outputs": [],
   "source": []
  },
  {
   "cell_type": "code",
   "execution_count": 12,
   "metadata": {
    "id": "sSMTIDbQWGgL"
   },
   "outputs": [
    {
     "name": "stderr",
     "output_type": "stream",
     "text": [
      "2021-12-10 02:39:00.515604: W tensorflow/stream_executor/platform/default/dso_loader.cc:64] Could not load dynamic library 'libcuda.so.1'; dlerror: libcuda.so.1: cannot open shared object file: No such file or directory\n",
      "2021-12-10 02:39:00.515637: W tensorflow/stream_executor/cuda/cuda_driver.cc:269] failed call to cuInit: UNKNOWN ERROR (303)\n",
      "2021-12-10 02:39:00.515663: I tensorflow/stream_executor/cuda/cuda_diagnostics.cc:156] kernel driver does not appear to be running on this host (ilia-ThinkPad-S5-S540): /proc/driver/nvidia/version does not exist\n",
      "2021-12-10 02:39:00.515926: I tensorflow/core/platform/cpu_feature_guard.cc:151] This TensorFlow binary is optimized with oneAPI Deep Neural Network Library (oneDNN) to use the following CPU instructions in performance-critical operations:  AVX2 FMA\n",
      "To enable them in other operations, rebuild TensorFlow with the appropriate compiler flags.\n"
     ]
    }
   ],
   "source": [
    "dataset = tf.data.Dataset.from_generator(boarddistortgen,\n",
    "                                         output_signature=\n",
    "                                         (tf.TensorSpec(shape=(SIZE,SIZE,1), dtype=tf.float32),\n",
    "                                          tf.TensorSpec(shape=(2), dtype=tf.float32))\n",
    "                                        )"
   ]
  },
  {
   "cell_type": "code",
   "execution_count": null,
   "metadata": {
    "id": "I0iFhVjJ04fW"
   },
   "outputs": [],
   "source": []
  },
  {
   "cell_type": "code",
   "execution_count": 13,
   "metadata": {
    "id": "43EDhr2J-Cty"
   },
   "outputs": [],
   "source": [
    "trainset = dataset.repeat().batch(64)\n",
    "valset = dataset.repeat(150).batch(64)"
   ]
  },
  {
   "cell_type": "markdown",
   "metadata": {},
   "source": [
    "# CLASSIFIER"
   ]
  },
  {
   "cell_type": "code",
   "execution_count": 14,
   "metadata": {},
   "outputs": [],
   "source": [
    "from keras.models import Model\n",
    "from keras.layers import Input, Conv2D, GlobalAveragePooling2D, Dense, MaxPooling2D, Concatenate"
   ]
  },
  {
   "cell_type": "code",
   "execution_count": 15,
   "metadata": {},
   "outputs": [],
   "source": [
    "def classnet():\n",
    "\n",
    "    inputs = tf.keras.layers.Input(shape=(SIZE,SIZE,1))\n",
    "\n",
    "    x = inputs\n",
    "    fsize = [16, 32, 64, 128]\n",
    "\n",
    "    for i in range(4):\n",
    "        x = Conv2D(filters = fsize[i],\n",
    "                kernel_size = (3, 3),\n",
    "                kernel_initializer = 'he_normal',\n",
    "                padding = 'same', strides=(2,2), activation='relu', name=f'cnv1_{i}')(x)\n",
    "\n",
    "    x = GlobalAveragePooling2D(name='glob')(x)\n",
    "    output_fig = Dense(7, activation = 'softmax', name='fig')(x)\n",
    "    output_col = Dense(3, activation = 'softmax', name='col')(x)\n",
    "    output = Concatenate(name='unite')([output_fig, output_col])\n",
    "    \n",
    "    model = Model(inputs=inputs, outputs=output, name='class_board')\n",
    "\n",
    "    return model"
   ]
  },
  {
   "cell_type": "code",
   "execution_count": 16,
   "metadata": {},
   "outputs": [],
   "source": [
    "md = classnet()"
   ]
  },
  {
   "cell_type": "code",
   "execution_count": 17,
   "metadata": {},
   "outputs": [
    {
     "name": "stdout",
     "output_type": "stream",
     "text": [
      "Model: \"class_board\"\n",
      "__________________________________________________________________________________________________\n",
      " Layer (type)                   Output Shape         Param #     Connected to                     \n",
      "==================================================================================================\n",
      " input_1 (InputLayer)           [(None, 60, 60, 1)]  0           []                               \n",
      "                                                                                                  \n",
      " cnv1_0 (Conv2D)                (None, 30, 30, 16)   160         ['input_1[0][0]']                \n",
      "                                                                                                  \n",
      " cnv1_1 (Conv2D)                (None, 15, 15, 32)   4640        ['cnv1_0[0][0]']                 \n",
      "                                                                                                  \n",
      " cnv1_2 (Conv2D)                (None, 8, 8, 64)     18496       ['cnv1_1[0][0]']                 \n",
      "                                                                                                  \n",
      " cnv1_3 (Conv2D)                (None, 4, 4, 128)    73856       ['cnv1_2[0][0]']                 \n",
      "                                                                                                  \n",
      " glob (GlobalAveragePooling2D)  (None, 128)          0           ['cnv1_3[0][0]']                 \n",
      "                                                                                                  \n",
      " fig (Dense)                    (None, 7)            903         ['glob[0][0]']                   \n",
      "                                                                                                  \n",
      " col (Dense)                    (None, 3)            387         ['glob[0][0]']                   \n",
      "                                                                                                  \n",
      " unite (Concatenate)            (None, 10)           0           ['fig[0][0]',                    \n",
      "                                                                  'col[0][0]']                    \n",
      "                                                                                                  \n",
      "==================================================================================================\n",
      "Total params: 98,442\n",
      "Trainable params: 98,442\n",
      "Non-trainable params: 0\n",
      "__________________________________________________________________________________________________\n"
     ]
    }
   ],
   "source": [
    "md.summary()"
   ]
  },
  {
   "cell_type": "code",
   "execution_count": null,
   "metadata": {},
   "outputs": [],
   "source": []
  },
  {
   "cell_type": "code",
   "execution_count": null,
   "metadata": {
    "id": "jiiLz07o5Gri"
   },
   "outputs": [],
   "source": [
    "def custom_loss(y_actual, y_pred):\n",
    "\n",
    "    scc = tf.keras.losses.SparseCategoricalCrossentropy()\n",
    "    part1 = scc(y_actual[:,0:1],y_pred[:,0:7])\n",
    "    part2 = scc(y_actual[:,1:2],y_pred[:,7:10])\n",
    "\n",
    "    return part1 + part2"
   ]
  },
  {
   "cell_type": "code",
   "execution_count": null,
   "metadata": {},
   "outputs": [],
   "source": [
    "class colAccuracy(tf.keras.metrics.SparseCategoricalAccuracy):\n",
    "\n",
    "    def __init__(self, name='col_acc', **kwargs):\n",
    "        super(colAccuracy, self).__init__(name=name, **kwargs)\n",
    "\n",
    "    def update_state(self, y_true, y_pred, sample_weight=None):\n",
    "        y_actual = y_true[:,1:2]\n",
    "        y_predicted = y_pred[:,7:10]\n",
    "        return super(colAccuracy,self).update_state(y_actual,y_predicted,sample_weight)"
   ]
  },
  {
   "cell_type": "code",
   "execution_count": null,
   "metadata": {},
   "outputs": [],
   "source": [
    "class figAccuracy(tf.keras.metrics.SparseCategoricalAccuracy):\n",
    "\n",
    "    def __init__(self, name='fig_acc', **kwargs):\n",
    "        super(figAccuracy, self).__init__(name=name, **kwargs)\n",
    "\n",
    "    def update_state(self, y_true, y_pred, sample_weight=None):\n",
    "        y_actual = y_true[:,0:1]\n",
    "        y_predicted = y_pred[:,0:7]\n",
    "        return super(figAccuracy,self).update_state(y_actual,y_predicted,sample_weight)"
   ]
  },
  {
   "cell_type": "code",
   "execution_count": null,
   "metadata": {},
   "outputs": [],
   "source": [
    "md.compile(optimizer=tf.keras.optimizers.Adam(learning_rate=0.001), loss=custom_loss,\n",
    "               metrics=[figAccuracy(), colAccuracy()])"
   ]
  },
  {
   "cell_type": "code",
   "execution_count": null,
   "metadata": {},
   "outputs": [],
   "source": [
    "md.evaluate(valset)"
   ]
  },
  {
   "cell_type": "code",
   "execution_count": null,
   "metadata": {},
   "outputs": [],
   "source": [
    "EPOCHS = 10\n",
    "model_history = md.fit(trainset, steps_per_epoch=50, epochs=EPOCHS, validation_data=valset)"
   ]
  },
  {
   "cell_type": "code",
   "execution_count": null,
   "metadata": {},
   "outputs": [],
   "source": [
    "md.save('models/class_figure_col_v1.h5')"
   ]
  },
  {
   "cell_type": "code",
   "execution_count": null,
   "metadata": {},
   "outputs": [],
   "source": [
    "##################################################################"
   ]
  },
  {
   "cell_type": "code",
   "execution_count": null,
   "metadata": {},
   "outputs": [],
   "source": []
  }
 ],
 "metadata": {
  "colab": {
   "authorship_tag": "ABX9TyOmEMB0TuUpFgbzghDfcX+8",
   "collapsed_sections": [],
   "name": "Копия board.ipynb",
   "private_outputs": true,
   "provenance": []
  },
  "kernelspec": {
   "display_name": "Python 3 (ipykernel)",
   "language": "python",
   "name": "python3"
  },
  "language_info": {
   "codemirror_mode": {
    "name": "ipython",
    "version": 3
   },
   "file_extension": ".py",
   "mimetype": "text/x-python",
   "name": "python",
   "nbconvert_exporter": "python",
   "pygments_lexer": "ipython3",
   "version": "3.8.11"
  }
 },
 "nbformat": 4,
 "nbformat_minor": 1
}
