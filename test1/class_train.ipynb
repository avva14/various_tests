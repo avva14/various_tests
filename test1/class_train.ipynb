{
 "cells": [
  {
   "cell_type": "code",
   "execution_count": null,
   "metadata": {
    "id": "EWSAZdXyziQ7"
   },
   "outputs": [],
   "source": [
    "import tensorflow as tf"
   ]
  },
  {
   "cell_type": "code",
   "execution_count": null,
   "metadata": {},
   "outputs": [],
   "source": [
    "tf.__version__"
   ]
  },
  {
   "cell_type": "code",
   "execution_count": null,
   "metadata": {
    "id": "s2Mmc4Mv5vE1"
   },
   "outputs": [],
   "source": [
    "import os\n",
    "import numpy as np\n",
    "import cv2\n",
    "from PIL import Image, ImageDraw\n",
    "import matplotlib.pyplot as plt\n",
    "from math import ceil"
   ]
  },
  {
   "cell_type": "code",
   "execution_count": null,
   "metadata": {},
   "outputs": [],
   "source": [
    "from chessutils import find_coeffs"
   ]
  },
  {
   "cell_type": "code",
   "execution_count": null,
   "metadata": {},
   "outputs": [],
   "source": [
    "from boardgen import moirebackground\n",
    "from boardgen import chessboard"
   ]
  },
  {
   "cell_type": "markdown",
   "metadata": {
    "id": "sOed6L6tmnMp"
   },
   "source": [
    "# Datagenerator"
   ]
  },
  {
   "cell_type": "code",
   "execution_count": null,
   "metadata": {
    "id": "ICLuHwcPl2Z3"
   },
   "outputs": [],
   "source": [
    "PATH_TO_IMG = 'img'"
   ]
  },
  {
   "cell_type": "code",
   "execution_count": null,
   "metadata": {},
   "outputs": [],
   "source": [
    "MAXSHEAR = 0.15\n",
    "MINSCALE = 0.5"
   ]
  },
  {
   "cell_type": "code",
   "execution_count": null,
   "metadata": {
    "id": "HjrEWj-_nliW"
   },
   "outputs": [],
   "source": [
    "figimgs = [f for f in os.listdir(PATH_TO_IMG) if f.split('_')[0]=='Chess']\n",
    "figuresimgs = dict()\n",
    "for f in figimgs:\n",
    "    fn = f.split('_')[1].split('4')[0]\n",
    "    img = cv2.imread(os.path.join(PATH_TO_IMG, f))\n",
    "    figuresimgs[fn] = cv2.cvtColor(img, cv2.COLOR_BGR2GRAY)\n",
    "\n",
    "figs = ['p', 'b', 'n', 'r', 'q', 'k']\n",
    "colors = ['d', 'l']"
   ]
  },
  {
   "cell_type": "code",
   "execution_count": null,
   "metadata": {},
   "outputs": [],
   "source": [
    "parameters = {\n",
    "    'numcell':8,\n",
    "    'cellsize':45,\n",
    "    'figures':figs,\n",
    "    'colors':colors,\n",
    "    'shear':MAXSHEAR,\n",
    "    'scale':MINSCALE,\n",
    "}"
   ]
  },
  {
   "cell_type": "code",
   "execution_count": null,
   "metadata": {},
   "outputs": [],
   "source": [
    "IMGSIZE = 480"
   ]
  },
  {
   "cell_type": "code",
   "execution_count": null,
   "metadata": {},
   "outputs": [],
   "source": [
    "SIZE = IMGSIZE // parameters['numcell']"
   ]
  },
  {
   "cell_type": "code",
   "execution_count": null,
   "metadata": {},
   "outputs": [],
   "source": [
    "figdict = {f:i+1 for i,f in enumerate(figs)}\n",
    "coldict = {c:i+1 for i,c in enumerate(colors)}"
   ]
  },
  {
   "cell_type": "code",
   "execution_count": null,
   "metadata": {},
   "outputs": [],
   "source": [
    "def boarddistortgen(imgsize):\n",
    "    boardimage, recs, vecs = chessboard(figuresimgs, np.random.rand(13), imgsize, parameters)\n",
    "\n",
    "    background = moirebackground(np.random.rand(8), imgsize)\n",
    "    result = (background * np.asarray(boardimage)).astype(np.uint8)\n",
    "    distortedvec = np.clip(vecs + 10 * (np.random.rand(8) - 0.5), 0, imgsize-1)\n",
    "    \n",
    "    coeffs = find_coeffs(\n",
    "        [(0, 0), (imgsize, 0), (imgsize, imgsize), (0, imgsize)],\n",
    "        np.reshape(distortedvec, (4,2)))\n",
    "    \n",
    "    img = Image.fromarray(result, 'L')\n",
    "\n",
    "    img = img.transform((imgsize,imgsize), Image.PERSPECTIVE, coeffs, Image.BICUBIC)\n",
    "    stacked = np.asarray(img)\n",
    "   \n",
    "    return stacked, recs"
   ]
  },
  {
   "cell_type": "code",
   "execution_count": null,
   "metadata": {},
   "outputs": [],
   "source": [
    "def separate(stacked, records):\n",
    "    boardsize = stacked.shape[0]\n",
    "    numcell = parameters['numcell']\n",
    "    size = boardsize // numcell\n",
    "    fieldnum = numcell*numcell\n",
    "    res = np.zeros((fieldnum,size,size))\n",
    "    cls = np.zeros((fieldnum,2))\n",
    "    for i, f, c in records:\n",
    "        cls[i][0] = figdict[f]\n",
    "        cls[i][1] = coldict[c]\n",
    "    for i in range(fieldnum):\n",
    "        x = i % numcell\n",
    "        y = i // numcell\n",
    "        res[i] = stacked[y*size:(y+1)*size,x*size:(x+1)*size]\n",
    "    return np.expand_dims(res, axis=-1), cls"
   ]
  },
  {
   "cell_type": "code",
   "execution_count": null,
   "metadata": {},
   "outputs": [],
   "source": [
    "bd, rc = boarddistortgen(IMGSIZE)"
   ]
  },
  {
   "cell_type": "code",
   "execution_count": null,
   "metadata": {},
   "outputs": [],
   "source": [
    "bsd, rsd = separate(bd, rc)"
   ]
  },
  {
   "cell_type": "code",
   "execution_count": null,
   "metadata": {},
   "outputs": [],
   "source": [
    "plt.imshow(bd, cmap='gray')\n",
    "plt.show()"
   ]
  },
  {
   "cell_type": "code",
   "execution_count": null,
   "metadata": {},
   "outputs": [],
   "source": [
    "plt.imshow(bd[0], cmap='gray')\n",
    "plt.title(f\"{int(rc[0][0])}:{int(rc[0][1])}\")\n",
    "plt.show()"
   ]
  },
  {
   "cell_type": "code",
   "execution_count": null,
   "metadata": {},
   "outputs": [],
   "source": [
    "bd.shape"
   ]
  },
  {
   "cell_type": "code",
   "execution_count": null,
   "metadata": {},
   "outputs": [],
   "source": []
  },
  {
   "cell_type": "code",
   "execution_count": null,
   "metadata": {},
   "outputs": [],
   "source": [
    "def boarddistortgen(imgsize):\n",
    "    boardimage, recs, vecs = chessboard(figuresimgs, np.random.rand(13), imgsize, parameters)\n",
    "\n",
    "    background = moirebackground(np.random.rand(8), imgsize)\n",
    "    result = (background * np.asarray(boardimage)).astype(np.uint8)\n",
    "    distortedvec = np.clip(vecs + 10 * (np.random.rand(8) - 0.5), 0, imgsize-1)\n",
    "    \n",
    "    coeffs = find_coeffs(\n",
    "        [(0, 0), (imgsize, 0), (imgsize, imgsize), (0, imgsize)],\n",
    "        np.reshape(distortedvec, (4,2)))\n",
    "    \n",
    "    img = Image.fromarray(result, 'L')\n",
    "    img = img.transform((imgsize,imgsize), Image.PERSPECTIVE, coeffs, Image.BICUBIC)\n",
    "    \n",
    "    stacked = np.asarray(img)\n",
    "    \n",
    "    numcell = parameters['numcell']\n",
    "    size = imgsize // numcell\n",
    "    fieldnum = numcell*numcell\n",
    "    res = np.zeros((fieldnum,size,size))\n",
    "    cls = np.zeros((fieldnum,2))\n",
    "    for i, f, c in recs:\n",
    "        cls[i][0] = figdict[f]\n",
    "        cls[i][1] = coldict[c]\n",
    "    for i in range(fieldnum):\n",
    "        x = i % numcell\n",
    "        y = i // numcell\n",
    "        res[i] = stacked[y*size:(y+1)*size,x*size:(x+1)*size]\n",
    "    return np.expand_dims(res, axis=-1), cls"
   ]
  },
  {
   "cell_type": "code",
   "execution_count": null,
   "metadata": {},
   "outputs": [],
   "source": [
    "def boardgen():\n",
    "    bd, rc = boarddistortgen(IMGSIZE)\n",
    "    count = 0\n",
    "    while True:\n",
    "        if (count == bd.shape[0]):\n",
    "            bd, rc = boarddistortgen(IMGSIZE)\n",
    "            count = 0\n",
    "        yield bd[count], rc[count]\n",
    "        count += 1"
   ]
  },
  {
   "cell_type": "code",
   "execution_count": null,
   "metadata": {},
   "outputs": [],
   "source": []
  },
  {
   "cell_type": "code",
   "execution_count": null,
   "metadata": {},
   "outputs": [],
   "source": []
  },
  {
   "cell_type": "code",
   "execution_count": null,
   "metadata": {
    "id": "sSMTIDbQWGgL"
   },
   "outputs": [],
   "source": [
    "dataset = tf.data.Dataset.from_generator(boardgen,\n",
    "                                         output_signature=\n",
    "                                         (tf.TensorSpec(shape=(SIZE,SIZE,1), dtype=tf.float32),\n",
    "                                          tf.TensorSpec(shape=(2), dtype=tf.float32))\n",
    "                                        )"
   ]
  },
  {
   "cell_type": "code",
   "execution_count": null,
   "metadata": {
    "id": "I0iFhVjJ04fW"
   },
   "outputs": [],
   "source": [
    "for t in dataset.take(5):\n",
    "    print(t[0].shape, t[1].shape)"
   ]
  },
  {
   "cell_type": "code",
   "execution_count": null,
   "metadata": {
    "id": "43EDhr2J-Cty"
   },
   "outputs": [],
   "source": [
    "trainset = dataset.batch(64)\n",
    "valset = dataset.batch(12)"
   ]
  },
  {
   "cell_type": "code",
   "execution_count": null,
   "metadata": {},
   "outputs": [],
   "source": [
    "for t in trainset.take(2):\n",
    "    print(t[0].shape, t[1].shape)"
   ]
  },
  {
   "cell_type": "code",
   "execution_count": null,
   "metadata": {},
   "outputs": [],
   "source": [
    "for t in valset.take(2):\n",
    "    print(np.squeeze(t[1].numpy().astype(int)).T)"
   ]
  },
  {
   "cell_type": "markdown",
   "metadata": {},
   "source": [
    "# CLASSIFIER"
   ]
  },
  {
   "cell_type": "code",
   "execution_count": null,
   "metadata": {},
   "outputs": [],
   "source": [
    "from keras.models import Model\n",
    "from keras.layers import Input, Conv2D, GlobalAveragePooling2D, Dense, MaxPooling2D, Concatenate"
   ]
  },
  {
   "cell_type": "code",
   "execution_count": null,
   "metadata": {},
   "outputs": [],
   "source": [
    "def classnet():\n",
    "\n",
    "    inputs = tf.keras.layers.Input(shape=(SIZE,SIZE,1))\n",
    "\n",
    "    x = inputs\n",
    "    fsize = [16, 32, 64, 128]\n",
    "\n",
    "    for i in range(4):\n",
    "        x = Conv2D(filters = fsize[i],\n",
    "                kernel_size = (3, 3),\n",
    "                kernel_initializer = 'he_normal',\n",
    "                padding = 'same', strides=(2,2), activation='relu', name=f'cnv1_{i}')(x)\n",
    "\n",
    "    x = GlobalAveragePooling2D(name='glob')(x)\n",
    "    output_fig = Dense(7, activation = 'softmax', name='fig')(x)\n",
    "    output_col = Dense(3, activation = 'softmax', name='col')(x)\n",
    "    output = Concatenate(name='unite')([output_fig, output_col])\n",
    "    \n",
    "    model = Model(inputs=inputs, outputs=output, name='class_board')\n",
    "\n",
    "    return model"
   ]
  },
  {
   "cell_type": "code",
   "execution_count": null,
   "metadata": {},
   "outputs": [],
   "source": [
    "md = classnet()"
   ]
  },
  {
   "cell_type": "code",
   "execution_count": null,
   "metadata": {},
   "outputs": [],
   "source": [
    "md.summary()"
   ]
  },
  {
   "cell_type": "code",
   "execution_count": null,
   "metadata": {},
   "outputs": [],
   "source": []
  },
  {
   "cell_type": "code",
   "execution_count": null,
   "metadata": {
    "id": "jiiLz07o5Gri"
   },
   "outputs": [],
   "source": [
    "def custom_loss(y_actual, y_pred):\n",
    "\n",
    "    scc = tf.keras.losses.SparseCategoricalCrossentropy()\n",
    "    part1 = scc(y_actual[:,0:1],y_pred[:,0:7])\n",
    "    part2 = scc(y_actual[:,1:2],y_pred[:,7:10])\n",
    "\n",
    "    return part1 + part2"
   ]
  },
  {
   "cell_type": "code",
   "execution_count": null,
   "metadata": {},
   "outputs": [],
   "source": [
    "class colAccuracy(tf.keras.metrics.SparseCategoricalAccuracy):\n",
    "\n",
    "    def __init__(self, name='col_acc', **kwargs):\n",
    "        super(colAccuracy, self).__init__(name=name, **kwargs)\n",
    "\n",
    "    def update_state(self, y_true, y_pred, sample_weight=None):\n",
    "        y_actual = y_true[:,1:2]\n",
    "        y_predicted = y_pred[:,7:10]\n",
    "        return super(colAccuracy,self).update_state(y_actual,y_predicted,sample_weight)"
   ]
  },
  {
   "cell_type": "code",
   "execution_count": null,
   "metadata": {},
   "outputs": [],
   "source": [
    "class figAccuracy(tf.keras.metrics.SparseCategoricalAccuracy):\n",
    "\n",
    "    def __init__(self, name='fig_acc', **kwargs):\n",
    "        super(figAccuracy, self).__init__(name=name, **kwargs)\n",
    "\n",
    "    def update_state(self, y_true, y_pred, sample_weight=None):\n",
    "        y_actual = y_true[:,0:1]\n",
    "        y_predicted = y_pred[:,0:7]\n",
    "        return super(figAccuracy,self).update_state(y_actual,y_predicted,sample_weight)"
   ]
  },
  {
   "cell_type": "code",
   "execution_count": null,
   "metadata": {},
   "outputs": [],
   "source": [
    "md.compile(optimizer=tf.keras.optimizers.Adam(learning_rate=0.001), loss=custom_loss,\n",
    "               metrics=[figAccuracy(), colAccuracy()])"
   ]
  },
  {
   "cell_type": "code",
   "execution_count": null,
   "metadata": {},
   "outputs": [],
   "source": [
    "md.evaluate(valset, steps=128)"
   ]
  },
  {
   "cell_type": "code",
   "execution_count": null,
   "metadata": {},
   "outputs": [],
   "source": [
    "EPOCHS = 1\n",
    "model_history = md.fit(\n",
    "    trainset,\n",
    "    steps_per_epoch=500,\n",
    "    epochs=EPOCHS,\n",
    "    validation_data=valset,\n",
    "    validation_steps=10)"
   ]
  },
  {
   "cell_type": "code",
   "execution_count": null,
   "metadata": {},
   "outputs": [],
   "source": [
    "md.save('models/class_figure_col_v1.h5')"
   ]
  },
  {
   "cell_type": "code",
   "execution_count": null,
   "metadata": {},
   "outputs": [],
   "source": [
    "##################################################################"
   ]
  },
  {
   "cell_type": "code",
   "execution_count": null,
   "metadata": {},
   "outputs": [],
   "source": [
    "md = tf.keras.models.load_model('models/class_figure_col_v2.h5', compile=False)"
   ]
  },
  {
   "cell_type": "code",
   "execution_count": null,
   "metadata": {},
   "outputs": [],
   "source": []
  }
 ],
 "metadata": {
  "colab": {
   "authorship_tag": "ABX9TyOmEMB0TuUpFgbzghDfcX+8",
   "collapsed_sections": [],
   "name": "Копия board.ipynb",
   "private_outputs": true,
   "provenance": []
  },
  "kernelspec": {
   "display_name": "Python 3 (ipykernel)",
   "language": "python",
   "name": "python3"
  },
  "language_info": {
   "codemirror_mode": {
    "name": "ipython",
    "version": 3
   },
   "file_extension": ".py",
   "mimetype": "text/x-python",
   "name": "python",
   "nbconvert_exporter": "python",
   "pygments_lexer": "ipython3",
   "version": "3.8.11"
  }
 },
 "nbformat": 4,
 "nbformat_minor": 1
}
